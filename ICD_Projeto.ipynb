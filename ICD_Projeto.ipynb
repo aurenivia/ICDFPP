{
  "nbformat": 4,
  "nbformat_minor": 0,
  "metadata": {
    "colab": {
      "name": "ICD - Projeto.ipynb",
      "provenance": [],
      "collapsed_sections": []
    },
    "kernelspec": {
      "name": "python3",
      "display_name": "Python 3"
    },
    "widgets": {
      "application/vnd.jupyter.widget-state+json": {
        "63bc5753139f42eb82fb29a936ece02e": {
          "model_module": "@jupyter-widgets/controls",
          "model_name": "HBoxModel",
          "state": {
            "_view_name": "HBoxView",
            "_dom_classes": [],
            "_model_name": "HBoxModel",
            "_view_module": "@jupyter-widgets/controls",
            "_model_module_version": "1.5.0",
            "_view_count": null,
            "_view_module_version": "1.5.0",
            "box_style": "",
            "layout": "IPY_MODEL_18bd5eafc5644b7ea40da83450ab95c1",
            "_model_module": "@jupyter-widgets/controls",
            "children": [
              "IPY_MODEL_eee0f893835d40a5886c1b39b05412de",
              "IPY_MODEL_fc68a220a9be4e3591b6ebcc3d53faca"
            ]
          }
        },
        "18bd5eafc5644b7ea40da83450ab95c1": {
          "model_module": "@jupyter-widgets/base",
          "model_name": "LayoutModel",
          "state": {
            "_view_name": "LayoutView",
            "grid_template_rows": null,
            "right": null,
            "justify_content": null,
            "_view_module": "@jupyter-widgets/base",
            "overflow": null,
            "_model_module_version": "1.2.0",
            "_view_count": null,
            "flex_flow": null,
            "width": null,
            "min_width": null,
            "border": null,
            "align_items": null,
            "bottom": null,
            "_model_module": "@jupyter-widgets/base",
            "top": null,
            "grid_column": null,
            "overflow_y": null,
            "overflow_x": null,
            "grid_auto_flow": null,
            "grid_area": null,
            "grid_template_columns": null,
            "flex": null,
            "_model_name": "LayoutModel",
            "justify_items": null,
            "grid_row": null,
            "max_height": null,
            "align_content": null,
            "visibility": null,
            "align_self": null,
            "height": null,
            "min_height": null,
            "padding": null,
            "grid_auto_rows": null,
            "grid_gap": null,
            "max_width": null,
            "order": null,
            "_view_module_version": "1.2.0",
            "grid_template_areas": null,
            "object_position": null,
            "object_fit": null,
            "grid_auto_columns": null,
            "margin": null,
            "display": null,
            "left": null
          }
        },
        "eee0f893835d40a5886c1b39b05412de": {
          "model_module": "@jupyter-widgets/controls",
          "model_name": "FloatProgressModel",
          "state": {
            "_view_name": "ProgressView",
            "style": "IPY_MODEL_2032bf345e7f4cb7a28a67248fc869c1",
            "_dom_classes": [],
            "description": "100%",
            "_model_name": "FloatProgressModel",
            "bar_style": "success",
            "max": 28,
            "_view_module": "@jupyter-widgets/controls",
            "_model_module_version": "1.5.0",
            "value": 28,
            "_view_count": null,
            "_view_module_version": "1.5.0",
            "orientation": "horizontal",
            "min": 0,
            "description_tooltip": null,
            "_model_module": "@jupyter-widgets/controls",
            "layout": "IPY_MODEL_b07bed72c01340adbda9c93ae8182d9f"
          }
        },
        "fc68a220a9be4e3591b6ebcc3d53faca": {
          "model_module": "@jupyter-widgets/controls",
          "model_name": "HTMLModel",
          "state": {
            "_view_name": "HTMLView",
            "style": "IPY_MODEL_1800f33ea8c841688990b20f9f8b3f5a",
            "_dom_classes": [],
            "description": "",
            "_model_name": "HTMLModel",
            "placeholder": "​",
            "_view_module": "@jupyter-widgets/controls",
            "_model_module_version": "1.5.0",
            "value": " 28/28 [01:37&lt;00:00,  3.48s/it]",
            "_view_count": null,
            "_view_module_version": "1.5.0",
            "description_tooltip": null,
            "_model_module": "@jupyter-widgets/controls",
            "layout": "IPY_MODEL_d41060a2538f44a9acad7f51290aa21a"
          }
        },
        "2032bf345e7f4cb7a28a67248fc869c1": {
          "model_module": "@jupyter-widgets/controls",
          "model_name": "ProgressStyleModel",
          "state": {
            "_view_name": "StyleView",
            "_model_name": "ProgressStyleModel",
            "description_width": "initial",
            "_view_module": "@jupyter-widgets/base",
            "_model_module_version": "1.5.0",
            "_view_count": null,
            "_view_module_version": "1.2.0",
            "bar_color": null,
            "_model_module": "@jupyter-widgets/controls"
          }
        },
        "b07bed72c01340adbda9c93ae8182d9f": {
          "model_module": "@jupyter-widgets/base",
          "model_name": "LayoutModel",
          "state": {
            "_view_name": "LayoutView",
            "grid_template_rows": null,
            "right": null,
            "justify_content": null,
            "_view_module": "@jupyter-widgets/base",
            "overflow": null,
            "_model_module_version": "1.2.0",
            "_view_count": null,
            "flex_flow": null,
            "width": null,
            "min_width": null,
            "border": null,
            "align_items": null,
            "bottom": null,
            "_model_module": "@jupyter-widgets/base",
            "top": null,
            "grid_column": null,
            "overflow_y": null,
            "overflow_x": null,
            "grid_auto_flow": null,
            "grid_area": null,
            "grid_template_columns": null,
            "flex": null,
            "_model_name": "LayoutModel",
            "justify_items": null,
            "grid_row": null,
            "max_height": null,
            "align_content": null,
            "visibility": null,
            "align_self": null,
            "height": null,
            "min_height": null,
            "padding": null,
            "grid_auto_rows": null,
            "grid_gap": null,
            "max_width": null,
            "order": null,
            "_view_module_version": "1.2.0",
            "grid_template_areas": null,
            "object_position": null,
            "object_fit": null,
            "grid_auto_columns": null,
            "margin": null,
            "display": null,
            "left": null
          }
        },
        "1800f33ea8c841688990b20f9f8b3f5a": {
          "model_module": "@jupyter-widgets/controls",
          "model_name": "DescriptionStyleModel",
          "state": {
            "_view_name": "StyleView",
            "_model_name": "DescriptionStyleModel",
            "description_width": "",
            "_view_module": "@jupyter-widgets/base",
            "_model_module_version": "1.5.0",
            "_view_count": null,
            "_view_module_version": "1.2.0",
            "_model_module": "@jupyter-widgets/controls"
          }
        },
        "d41060a2538f44a9acad7f51290aa21a": {
          "model_module": "@jupyter-widgets/base",
          "model_name": "LayoutModel",
          "state": {
            "_view_name": "LayoutView",
            "grid_template_rows": null,
            "right": null,
            "justify_content": null,
            "_view_module": "@jupyter-widgets/base",
            "overflow": null,
            "_model_module_version": "1.2.0",
            "_view_count": null,
            "flex_flow": null,
            "width": null,
            "min_width": null,
            "border": null,
            "align_items": null,
            "bottom": null,
            "_model_module": "@jupyter-widgets/base",
            "top": null,
            "grid_column": null,
            "overflow_y": null,
            "overflow_x": null,
            "grid_auto_flow": null,
            "grid_area": null,
            "grid_template_columns": null,
            "flex": null,
            "_model_name": "LayoutModel",
            "justify_items": null,
            "grid_row": null,
            "max_height": null,
            "align_content": null,
            "visibility": null,
            "align_self": null,
            "height": null,
            "min_height": null,
            "padding": null,
            "grid_auto_rows": null,
            "grid_gap": null,
            "max_width": null,
            "order": null,
            "_view_module_version": "1.2.0",
            "grid_template_areas": null,
            "object_position": null,
            "object_fit": null,
            "grid_auto_columns": null,
            "margin": null,
            "display": null,
            "left": null
          }
        }
      }
    }
  },
  "cells": [
    {
      "cell_type": "markdown",
      "metadata": {
        "id": "pNdMmInvEbbF"
      },
      "source": [
        "## Preparação de Dados\n",
        "Introdução à Ciência de Dados\n",
        "\n",
        "Aluna: Aurenívia Gomes da Costa\n"
      ]
    },
    {
      "cell_type": "markdown",
      "metadata": {
        "id": "w4AixjqRHPgB"
      },
      "source": [
        "http://agencia.tse.jus.br/estatistica/sead/eleitorado/filiados/uf/filiados_dem_ac.zip\n",
        "\n",
        "https://dados.gov.br/dataset/filiados-partidos-politicos\n"
      ]
    },
    {
      "cell_type": "code",
      "metadata": {
        "id": "CxCeXsdnHT0p",
        "outputId": "d7299d46-d144-4ba7-8674-5d2a665f132e",
        "colab": {
          "base_uri": "https://localhost:8080/"
        }
      },
      "source": [
        "\"\"\"\n",
        "* Instalar Bibliotecas Necessárias e Preparar o Ambiente\n",
        "devido ao dado não estar disponível no momento, utiliza-se o wayback machine\n",
        "para pegar a ultima versão disponível\n",
        "\"\"\"\n",
        "%pip install get_wayback_machine "
      ],
      "execution_count": 1,
      "outputs": [
        {
          "output_type": "stream",
          "text": [
            "Collecting get_wayback_machine\n",
            "  Downloading https://files.pythonhosted.org/packages/1e/05/1266ccdb2d2302f2b07b11eeab27f09c9c2692e6f0b4383a19e88444808e/get_wayback_machine-0.1.2-py3-none-any.whl\n",
            "Collecting get-retries\n",
            "  Downloading https://files.pythonhosted.org/packages/ca/84/61fa80bfd47931cee20fc3601ddc0b547f6124f69e85c519b922d59e5aad/get_retries-0.1.1-py3-none-any.whl\n",
            "Requirement already satisfied: requests in /usr/local/lib/python3.6/dist-packages (from get-retries->get_wayback_machine) (2.23.0)\n",
            "Requirement already satisfied: chardet<4,>=3.0.2 in /usr/local/lib/python3.6/dist-packages (from requests->get-retries->get_wayback_machine) (3.0.4)\n",
            "Requirement already satisfied: certifi>=2017.4.17 in /usr/local/lib/python3.6/dist-packages (from requests->get-retries->get_wayback_machine) (2020.6.20)\n",
            "Requirement already satisfied: idna<3,>=2.5 in /usr/local/lib/python3.6/dist-packages (from requests->get-retries->get_wayback_machine) (2.10)\n",
            "Requirement already satisfied: urllib3!=1.25.0,!=1.25.1,<1.26,>=1.21.1 in /usr/local/lib/python3.6/dist-packages (from requests->get-retries->get_wayback_machine) (1.24.3)\n",
            "Installing collected packages: get-retries, get-wayback-machine\n",
            "Successfully installed get-retries-0.1.1 get-wayback-machine-0.1.2\n"
          ],
          "name": "stdout"
        }
      ]
    },
    {
      "cell_type": "code",
      "metadata": {
        "id": "gIyp9rmlMWiK",
        "outputId": "081ecfef-8f86-492e-fd0a-fbacf6680397",
        "colab": {
          "base_uri": "https://localhost:8080/",
          "height": 1000,
          "referenced_widgets": [
            "63bc5753139f42eb82fb29a936ece02e",
            "18bd5eafc5644b7ea40da83450ab95c1",
            "eee0f893835d40a5886c1b39b05412de",
            "fc68a220a9be4e3591b6ebcc3d53faca",
            "2032bf345e7f4cb7a28a67248fc869c1",
            "b07bed72c01340adbda9c93ae8182d9f",
            "1800f33ea8c841688990b20f9f8b3f5a",
            "d41060a2538f44a9acad7f51290aa21a"
          ]
        }
      },
      "source": [
        "import requests, zipfile, io, os\n",
        "import get_wayback_machine\n",
        "from tqdm.notebook import tqdm # imprimir barra de progresso\n",
        "\n",
        "# Lista de Partidos e Estados\n",
        "\n",
        "PARTIDOS = ['dem','pc_do_b','pcb','pco','pdt','phs','pmdb','pmn','pp','ppl',\n",
        "            'pps','pr','prb','prtb','psb','psc','psd','psdb','psdc','psl',\n",
        "            'psol','pstu','pt','pt_do_b','ptb','ptc','ptn','pv']\n",
        "\n",
        "# ESTADOS = ['ac','al','am','ap','ba','ce','df','es','go','ma','mt','ms','mg',\n",
        "          #  'pa','pb','pr','pe','pi','rj','rn','ro','rs','rr','sc','se','sp',\n",
        "          #  'to' ]\n",
        "\n",
        "# para esse momento, escolhido apenas o estado da paraíba\n",
        "ESTADOS = [ 'pb']\n",
        "\n",
        "urls = [f'http://agencia.tse.jus.br/estatistica/sead/eleitorado/filiados/uf/filiados_{partido}_pb.zip' \\\n",
        "        for uf in ESTADOS for partido in PARTIDOS]\n",
        "\n",
        "\n",
        "# Baixar e extrair os dados\n",
        "\n",
        "acertos, erros = 0,0\n",
        "\n",
        "for url in tqdm(urls):\n",
        "  r = get_wayback_machine.get(url)\n",
        "  if r is not None and r.status_code == 200:\n",
        "    z = zipfile.ZipFile(io.BytesIO(r.content))\\\n",
        "    .extractall('filiados/')\n",
        "    acertos += 1;\n",
        "  else:\n",
        "    print(f\"erro {url}\")\n",
        "    erros += 1;\n",
        "\n",
        "print(f\"arquivos baixados com sucesso {acertos}, erros: {erros}\");\n",
        "\n",
        "# Listar os arquivos.\n",
        "\n",
        "CAMINHO = '/content/filiados/aplic/sead/lista_filiados/uf/'\n",
        "arquivos = []\n",
        "\n",
        "for _, __, files in os.walk(CAMINHO):\n",
        "  for file in files:\n",
        "    if file.endswith(\".csv\"):\n",
        "      arquivos.append(CAMINHO + file)\n",
        "\n",
        "print(\"arquivos extraídos e listados com sucesso\");\n",
        "arquivos"
      ],
      "execution_count": 8,
      "outputs": [
        {
          "output_type": "display_data",
          "data": {
            "application/vnd.jupyter.widget-view+json": {
              "model_id": "63bc5753139f42eb82fb29a936ece02e",
              "version_minor": 0,
              "version_major": 2
            },
            "text/plain": [
              "HBox(children=(FloatProgress(value=0.0, max=28.0), HTML(value='')))"
            ]
          },
          "metadata": {
            "tags": []
          }
        },
        {
          "output_type": "stream",
          "text": [
            "\n",
            "arquivos baixados com sucesso 28, erros: 0\n",
            "arquivos extraídos e listados com sucesso\n"
          ],
          "name": "stdout"
        },
        {
          "output_type": "execute_result",
          "data": {
            "text/plain": [
              "['/content/filiados/aplic/sead/lista_filiados/uf/filiados_pv_pb.csv',\n",
              " '/content/filiados/aplic/sead/lista_filiados/uf/fil_sub_jud_psd_pb.csv',\n",
              " '/content/filiados/aplic/sead/lista_filiados/uf/fil_sub_jud_pr_pb.csv',\n",
              " '/content/filiados/aplic/sead/lista_filiados/uf/fil_sub_jud_psc_pb.csv',\n",
              " '/content/filiados/aplic/sead/lista_filiados/uf/fil_sub_jud_pp_pb.csv',\n",
              " '/content/filiados/aplic/sead/lista_filiados/uf/filiados_ptc_pb.csv',\n",
              " '/content/filiados/aplic/sead/lista_filiados/uf/fil_sub_jud_psol_pb.csv',\n",
              " '/content/filiados/aplic/sead/lista_filiados/uf/fil_sub_jud_pt_pb.csv',\n",
              " '/content/filiados/aplic/sead/lista_filiados/uf/filiados_psc_pb.csv',\n",
              " '/content/filiados/aplic/sead/lista_filiados/uf/fil_sub_jud_psdc_pb.csv',\n",
              " '/content/filiados/aplic/sead/lista_filiados/uf/filiados_psl_pb.csv',\n",
              " '/content/filiados/aplic/sead/lista_filiados/uf/filiados_psol_pb.csv',\n",
              " '/content/filiados/aplic/sead/lista_filiados/uf/filiados_ptb_pb.csv',\n",
              " '/content/filiados/aplic/sead/lista_filiados/uf/filiados_psb_pb.csv',\n",
              " '/content/filiados/aplic/sead/lista_filiados/uf/fil_sub_jud_ptc_pb.csv',\n",
              " '/content/filiados/aplic/sead/lista_filiados/uf/filiados_pdt_pb.csv',\n",
              " '/content/filiados/aplic/sead/lista_filiados/uf/filiados_psd_pb.csv',\n",
              " '/content/filiados/aplic/sead/lista_filiados/uf/fil_sub_jud_pstu_pb.csv',\n",
              " '/content/filiados/aplic/sead/lista_filiados/uf/fil_sub_jud_pco_pb.csv',\n",
              " '/content/filiados/aplic/sead/lista_filiados/uf/fil_sub_jud_ptn_pb.csv',\n",
              " '/content/filiados/aplic/sead/lista_filiados/uf/filiados_ptn_pb.csv',\n",
              " '/content/filiados/aplic/sead/lista_filiados/uf/filiados_psdc_pb.csv',\n",
              " '/content/filiados/aplic/sead/lista_filiados/uf/fil_sub_jud_psb_pb.csv',\n",
              " '/content/filiados/aplic/sead/lista_filiados/uf/fil_sub_jud_pcb_pb.csv',\n",
              " '/content/filiados/aplic/sead/lista_filiados/uf/filiados_pco_pb.csv',\n",
              " '/content/filiados/aplic/sead/lista_filiados/uf/filiados_pmn_pb.csv',\n",
              " '/content/filiados/aplic/sead/lista_filiados/uf/filiados_phs_pb.csv',\n",
              " '/content/filiados/aplic/sead/lista_filiados/uf/filiados_pp_pb.csv',\n",
              " '/content/filiados/aplic/sead/lista_filiados/uf/fil_sub_jud_pc_do_b_pb.csv',\n",
              " '/content/filiados/aplic/sead/lista_filiados/uf/filiados_ppl_pb.csv',\n",
              " '/content/filiados/aplic/sead/lista_filiados/uf/filiados_psdb_pb.csv',\n",
              " '/content/filiados/aplic/sead/lista_filiados/uf/fil_sub_jud_ppl_pb.csv',\n",
              " '/content/filiados/aplic/sead/lista_filiados/uf/fil_sub_jud_dem_pb.csv',\n",
              " '/content/filiados/aplic/sead/lista_filiados/uf/fil_sub_jud_pmdb_pb.csv',\n",
              " '/content/filiados/aplic/sead/lista_filiados/uf/fil_sub_jud_pmn_pb.csv',\n",
              " '/content/filiados/aplic/sead/lista_filiados/uf/filiados_pc_do_b_pb.csv',\n",
              " '/content/filiados/aplic/sead/lista_filiados/uf/filiados_pcb_pb.csv',\n",
              " '/content/filiados/aplic/sead/lista_filiados/uf/filiados_pt_pb.csv',\n",
              " '/content/filiados/aplic/sead/lista_filiados/uf/fil_sub_jud_pdt_pb.csv',\n",
              " '/content/filiados/aplic/sead/lista_filiados/uf/filiados_pr_pb.csv',\n",
              " '/content/filiados/aplic/sead/lista_filiados/uf/fil_sub_jud_psdb_pb.csv',\n",
              " '/content/filiados/aplic/sead/lista_filiados/uf/fil_sub_jud_prb_pb.csv',\n",
              " '/content/filiados/aplic/sead/lista_filiados/uf/filiados_prtb_pb.csv',\n",
              " '/content/filiados/aplic/sead/lista_filiados/uf/filiados_pmdb_pb.csv',\n",
              " '/content/filiados/aplic/sead/lista_filiados/uf/fil_sub_jud_pt_do_b_pb.csv',\n",
              " '/content/filiados/aplic/sead/lista_filiados/uf/fil_sub_jud_psl_pb.csv',\n",
              " '/content/filiados/aplic/sead/lista_filiados/uf/filiados_pps_pb.csv',\n",
              " '/content/filiados/aplic/sead/lista_filiados/uf/fil_sub_jud_prtb_pb.csv',\n",
              " '/content/filiados/aplic/sead/lista_filiados/uf/filiados_prb_pb.csv',\n",
              " '/content/filiados/aplic/sead/lista_filiados/uf/filiados_dem_pb.csv',\n",
              " '/content/filiados/aplic/sead/lista_filiados/uf/fil_sub_jud_pv_pb.csv',\n",
              " '/content/filiados/aplic/sead/lista_filiados/uf/filiados_pt_do_b_pb.csv',\n",
              " '/content/filiados/aplic/sead/lista_filiados/uf/filiados_pstu_pb.csv',\n",
              " '/content/filiados/aplic/sead/lista_filiados/uf/fil_sub_jud_pps_pb.csv',\n",
              " '/content/filiados/aplic/sead/lista_filiados/uf/fil_sub_jud_phs_pb.csv',\n",
              " '/content/filiados/aplic/sead/lista_filiados/uf/fil_sub_jud_ptb_pb.csv']"
            ]
          },
          "metadata": {
            "tags": []
          },
          "execution_count": 8
        }
      ]
    },
    {
      "cell_type": "code",
      "metadata": {
        "id": "kSyz2YQaYOp-",
        "outputId": "b94aadef-b06a-443a-9305-bfc77aa06b07",
        "colab": {
          "base_uri": "https://localhost:8080/"
        }
      },
      "source": [
        "import pandas as pd # gerar dataframe e mergir\n",
        "\n",
        "csvs_para_mergir = []\n",
        "\n",
        "COLUNAS_USADAS = ['SIGLA DO PARTIDO',\n",
        "       'CODIGO DO MUNICIPIO', 'NOME DO MUNICIPIO', 'ZONA ELEITORAL',\n",
        "       'SECAO ELEITORAL', 'DATA DA FILIACAO', 'SITUACAO DO REGISTRO',\n",
        "       'DATA DO PROCESSAMENTO', 'DATA DA DESFILIACAO',\n",
        "       'DATA DO CANCELAMENTO', 'DATA DA REGULARIZACAO',\n",
        "       'MOTIVO DO CANCELAMENTO']\n",
        "\n",
        "\n",
        "DTYPES = {'CODIGO DO MUNICIPIO': 'object',\n",
        " 'DATA DA DESFILIACAO': 'object',\n",
        " 'DATA DA FILIACAO': 'object',\n",
        " 'DATA DA REGULARIZACAO': 'object',\n",
        " 'DATA DO CANCELAMENTO': 'object',\n",
        " 'DATA DO PROCESSAMENTO': 'object',\n",
        " 'MOTIVO DO CANCELAMENTO': 'object',\n",
        " 'NOME DO MUNICIPIO': 'object',\n",
        " 'SECAO ELEITORAL': 'object',\n",
        " 'SIGLA DO PARTIDO': 'object',\n",
        " 'SITUACAO DO REGISTRO': 'object',\n",
        " 'UF': 'object',\n",
        " 'ZONA ELEITORAL': 'object'}\n",
        "\n",
        "#{'DATA DA REGULARIZACAO': 'object'}\n",
        "\n",
        "csvs_para_mergir = [pd.read_csv(a, error_bad_lines=False, sep=None, encoding='latin-1', usecols = COLUNAS_USADAS, dtype=DTYPES) for a in arquivos]\n",
        "filiados_paraiba = pd.concat(csvs_para_mergir, ignore_index=True)\n",
        "\n",
        "\n"
      ],
      "execution_count": 14,
      "outputs": [
        {
          "output_type": "stream",
          "text": [
            "/usr/local/lib/python3.6/dist-packages/ipykernel_launcher.py:29: ParserWarning: Falling back to the 'python' engine because the 'c' engine does not support sep=None with delim_whitespace=False; you can avoid this warning by specifying engine='python'.\n"
          ],
          "name": "stderr"
        }
      ]
    },
    {
      "cell_type": "code",
      "metadata": {
        "id": "74dy1lippW9y",
        "outputId": "8c758fc6-861c-4601-e66b-5056b52a8c84",
        "colab": {
          "base_uri": "https://localhost:8080/",
          "height": 472
        }
      },
      "source": [
        "filiados_paraiba"
      ],
      "execution_count": 15,
      "outputs": [
        {
          "output_type": "execute_result",
          "data": {
            "text/html": [
              "<div>\n",
              "<style scoped>\n",
              "    .dataframe tbody tr th:only-of-type {\n",
              "        vertical-align: middle;\n",
              "    }\n",
              "\n",
              "    .dataframe tbody tr th {\n",
              "        vertical-align: top;\n",
              "    }\n",
              "\n",
              "    .dataframe thead th {\n",
              "        text-align: right;\n",
              "    }\n",
              "</style>\n",
              "<table border=\"1\" class=\"dataframe\">\n",
              "  <thead>\n",
              "    <tr style=\"text-align: right;\">\n",
              "      <th></th>\n",
              "      <th>SIGLA DO PARTIDO</th>\n",
              "      <th>CODIGO DO MUNICIPIO</th>\n",
              "      <th>NOME DO MUNICIPIO</th>\n",
              "      <th>ZONA ELEITORAL</th>\n",
              "      <th>SECAO ELEITORAL</th>\n",
              "      <th>DATA DA FILIACAO</th>\n",
              "      <th>SITUACAO DO REGISTRO</th>\n",
              "      <th>DATA DO PROCESSAMENTO</th>\n",
              "      <th>DATA DA DESFILIACAO</th>\n",
              "      <th>DATA DO CANCELAMENTO</th>\n",
              "      <th>DATA DA REGULARIZACAO</th>\n",
              "      <th>MOTIVO DO CANCELAMENTO</th>\n",
              "    </tr>\n",
              "  </thead>\n",
              "  <tbody>\n",
              "    <tr>\n",
              "      <th>0</th>\n",
              "      <td>PV</td>\n",
              "      <td>19674</td>\n",
              "      <td>CACHOEIRA DOS ÍNDIOS</td>\n",
              "      <td>68</td>\n",
              "      <td>20</td>\n",
              "      <td>28/09/2003</td>\n",
              "      <td>REGULAR</td>\n",
              "      <td>14/04/2018</td>\n",
              "      <td>NaN</td>\n",
              "      <td>NaN</td>\n",
              "      <td>NaN</td>\n",
              "      <td>NaN</td>\n",
              "    </tr>\n",
              "    <tr>\n",
              "      <th>1</th>\n",
              "      <td>PV</td>\n",
              "      <td>21512</td>\n",
              "      <td>QUEIMADAS</td>\n",
              "      <td>59</td>\n",
              "      <td>121</td>\n",
              "      <td>29/09/2003</td>\n",
              "      <td>REGULAR</td>\n",
              "      <td>14/04/2018</td>\n",
              "      <td>NaN</td>\n",
              "      <td>NaN</td>\n",
              "      <td>NaN</td>\n",
              "      <td>NaN</td>\n",
              "    </tr>\n",
              "    <tr>\n",
              "      <th>2</th>\n",
              "      <td>PV</td>\n",
              "      <td>19372</td>\n",
              "      <td>BAYEUX</td>\n",
              "      <td>61</td>\n",
              "      <td>123</td>\n",
              "      <td>29/09/2003</td>\n",
              "      <td>CANCELADO</td>\n",
              "      <td>15/10/2016</td>\n",
              "      <td>27/11/2007</td>\n",
              "      <td>27/11/2007</td>\n",
              "      <td>NaN</td>\n",
              "      <td>Judicial</td>\n",
              "    </tr>\n",
              "    <tr>\n",
              "      <th>3</th>\n",
              "      <td>PV</td>\n",
              "      <td>20214</td>\n",
              "      <td>ESPERANÇA</td>\n",
              "      <td>19</td>\n",
              "      <td>99</td>\n",
              "      <td>15/08/2003</td>\n",
              "      <td>REGULAR</td>\n",
              "      <td>18/04/2017</td>\n",
              "      <td>NaN</td>\n",
              "      <td>NaN</td>\n",
              "      <td>NaN</td>\n",
              "      <td>NaN</td>\n",
              "    </tr>\n",
              "    <tr>\n",
              "      <th>4</th>\n",
              "      <td>PV</td>\n",
              "      <td>21512</td>\n",
              "      <td>QUEIMADAS</td>\n",
              "      <td>59</td>\n",
              "      <td>95</td>\n",
              "      <td>16/10/1995</td>\n",
              "      <td>REGULAR</td>\n",
              "      <td>14/04/2018</td>\n",
              "      <td>NaN</td>\n",
              "      <td>NaN</td>\n",
              "      <td>NaN</td>\n",
              "      <td>NaN</td>\n",
              "    </tr>\n",
              "    <tr>\n",
              "      <th>...</th>\n",
              "      <td>...</td>\n",
              "      <td>...</td>\n",
              "      <td>...</td>\n",
              "      <td>...</td>\n",
              "      <td>...</td>\n",
              "      <td>...</td>\n",
              "      <td>...</td>\n",
              "      <td>...</td>\n",
              "      <td>...</td>\n",
              "      <td>...</td>\n",
              "      <td>...</td>\n",
              "      <td>...</td>\n",
              "    </tr>\n",
              "    <tr>\n",
              "      <th>476739</th>\n",
              "      <td>PTB</td>\n",
              "      <td>20710</td>\n",
              "      <td>LIVRAMENTO</td>\n",
              "      <td>27</td>\n",
              "      <td>2</td>\n",
              "      <td>03/10/2003</td>\n",
              "      <td>SUB JUDICE</td>\n",
              "      <td>15/04/2016</td>\n",
              "      <td>NaN</td>\n",
              "      <td>NaN</td>\n",
              "      <td>NaN</td>\n",
              "      <td>NaN</td>\n",
              "    </tr>\n",
              "    <tr>\n",
              "      <th>476740</th>\n",
              "      <td>PTB</td>\n",
              "      <td>21393</td>\n",
              "      <td>PITIMBU</td>\n",
              "      <td>73</td>\n",
              "      <td>85</td>\n",
              "      <td>04/10/2011</td>\n",
              "      <td>SUB JUDICE</td>\n",
              "      <td>15/04/2016</td>\n",
              "      <td>NaN</td>\n",
              "      <td>NaN</td>\n",
              "      <td>NaN</td>\n",
              "      <td>NaN</td>\n",
              "    </tr>\n",
              "    <tr>\n",
              "      <th>476741</th>\n",
              "      <td>PTB</td>\n",
              "      <td>21393</td>\n",
              "      <td>PITIMBU</td>\n",
              "      <td>73</td>\n",
              "      <td>85</td>\n",
              "      <td>04/10/2011</td>\n",
              "      <td>SUB JUDICE</td>\n",
              "      <td>15/04/2016</td>\n",
              "      <td>NaN</td>\n",
              "      <td>NaN</td>\n",
              "      <td>NaN</td>\n",
              "      <td>NaN</td>\n",
              "    </tr>\n",
              "    <tr>\n",
              "      <th>476742</th>\n",
              "      <td>PTB</td>\n",
              "      <td>21393</td>\n",
              "      <td>PITIMBU</td>\n",
              "      <td>73</td>\n",
              "      <td>117</td>\n",
              "      <td>04/10/2011</td>\n",
              "      <td>SUB JUDICE</td>\n",
              "      <td>15/04/2016</td>\n",
              "      <td>NaN</td>\n",
              "      <td>NaN</td>\n",
              "      <td>NaN</td>\n",
              "      <td>NaN</td>\n",
              "    </tr>\n",
              "    <tr>\n",
              "      <th>476743</th>\n",
              "      <td>PTB</td>\n",
              "      <td>21393</td>\n",
              "      <td>PITIMBU</td>\n",
              "      <td>73</td>\n",
              "      <td>82</td>\n",
              "      <td>04/10/2011</td>\n",
              "      <td>SUB JUDICE</td>\n",
              "      <td>15/04/2016</td>\n",
              "      <td>NaN</td>\n",
              "      <td>NaN</td>\n",
              "      <td>NaN</td>\n",
              "      <td>NaN</td>\n",
              "    </tr>\n",
              "  </tbody>\n",
              "</table>\n",
              "<p>476744 rows × 12 columns</p>\n",
              "</div>"
            ],
            "text/plain": [
              "       SIGLA DO PARTIDO  ... MOTIVO DO CANCELAMENTO\n",
              "0                    PV  ...                    NaN\n",
              "1                    PV  ...                    NaN\n",
              "2                    PV  ...               Judicial\n",
              "3                    PV  ...                    NaN\n",
              "4                    PV  ...                    NaN\n",
              "...                 ...  ...                    ...\n",
              "476739              PTB  ...                    NaN\n",
              "476740              PTB  ...                    NaN\n",
              "476741              PTB  ...                    NaN\n",
              "476742              PTB  ...                    NaN\n",
              "476743              PTB  ...                    NaN\n",
              "\n",
              "[476744 rows x 12 columns]"
            ]
          },
          "metadata": {
            "tags": []
          },
          "execution_count": 15
        }
      ]
    },
    {
      "cell_type": "code",
      "metadata": {
        "id": "gGO7uBmeOzFD",
        "outputId": "770ef460-d991-4c4e-96c1-5b8bce406131",
        "colab": {
          "base_uri": "https://localhost:8080/"
        }
      },
      "source": [
        "filiados_paraiba[\"SIGLA DO PARTIDO\"].value_counts()"
      ],
      "execution_count": 30,
      "outputs": [
        {
          "output_type": "execute_result",
          "data": {
            "text/plain": [
              "PMDB       81961\n",
              "DEM        50950\n",
              "PSDB       46543\n",
              "PT         38801\n",
              "PP         34416\n",
              "PTB        31638\n",
              "PSB        26687\n",
              "PR         23260\n",
              "PDT        22060\n",
              "PRB        13549\n",
              "PPS        13539\n",
              "PSD        12552\n",
              "PSL        11415\n",
              "PC DO B     9342\n",
              "PSC         8522\n",
              "PT DO B     8369\n",
              "PV          8301\n",
              "PSDC        6499\n",
              "PTN         5863\n",
              "PMN         4946\n",
              "PHS         4769\n",
              "PRTB        4332\n",
              "PTC         4196\n",
              "PSOL        1770\n",
              "PPL         1627\n",
              "PCB          548\n",
              "PCO          166\n",
              "PSTU         123\n",
              "Name: SIGLA DO PARTIDO, dtype: int64"
            ]
          },
          "metadata": {
            "tags": []
          },
          "execution_count": 30
        }
      ]
    },
    {
      "cell_type": "code",
      "metadata": {
        "id": "DRgpJSY7OyBN"
      },
      "source": [
        "filiados_paraiba."
      ],
      "execution_count": null,
      "outputs": []
    },
    {
      "cell_type": "code",
      "metadata": {
        "id": "MdLzpvjEYsbN",
        "outputId": "0e53a220-d661-4163-900f-cffbef5820a3",
        "colab": {
          "base_uri": "https://localhost:8080/"
        }
      },
      "source": [
        "contagem_por_partido = filiados_paraiba[\"SIGLA DO PARTIDO\"].value_counts()\n",
        "# filiados_paraiba[\"SITUACAO DO REGISTRO\"].value_counts().plot.bar()\n",
        "# filiados_paraiba[\"NOME DO MUNICIPIO\"].value_counts()\n",
        "\n",
        "print(f\"Filiados por partido:\\n\\\n",
        "MÉDIA: {round(contagem_por_partido.mean(),2)}\\n\\\n",
        "VARIÂNCIA: {round(contagem_por_partido.var(),2)}\\n\\\n",
        "DESVIO PADRÃO: {round(contagem_por_partido.std(),2)}\\n\\\n",
        "MEDIANA: {round(contagem_por_partido.median(),2)}\\n\\\n",
        "MODA: {round(contagem_por_partido.mode()[0],2)}\")"
      ],
      "execution_count": 31,
      "outputs": [
        {
          "output_type": "stream",
          "text": [
            "Filiados por partido:\n",
            "MÉDIA: 17026.57\n",
            "VARIÂNCIA: 367153508.77\n",
            "DESVIO PADRÃO: 19161.25\n",
            "MEDIANA: 8932.0\n",
            "MODA: 123\n"
          ],
          "name": "stdout"
        }
      ]
    },
    {
      "cell_type": "code",
      "metadata": {
        "id": "_QzDkhimPc_Y",
        "outputId": "9837be8f-50c7-4b62-a675-a8f144ded1a9",
        "colab": {
          "base_uri": "https://localhost:8080/",
          "height": 282
        }
      },
      "source": [
        "# fazendo boxplot do dado\n",
        "contagem_por_partido.plot.box()"
      ],
      "execution_count": 33,
      "outputs": [
        {
          "output_type": "execute_result",
          "data": {
            "text/plain": [
              "<matplotlib.axes._subplots.AxesSubplot at 0x7f15416d9438>"
            ]
          },
          "metadata": {
            "tags": []
          },
          "execution_count": 33
        },
        {
          "output_type": "display_data",
          "data": {
            "image/png": "[encoded data removed]",
            "text/plain": [
              "<Figure size 432x288 with 1 Axes>"
            ]
          },
          "metadata": {
            "tags": [],
            "needs_background": "light"
          }
        }
      ]
    },
    {
      "cell_type": "code",
      "metadata": {
        "id": "CpL3MKCjx9PB",
        "outputId": "2adca943-3143-4895-8ee0-47aa75bf283a",
        "colab": {
          "base_uri": "https://localhost:8080/",
          "height": 402
        }
      },
      "source": [
        "filiados_paraiba.groupby(by=[\"SIGLA DO PARTIDO\", \"NOME DO MUNICIPIO\", \"SITUACAO DO REGISTRO\"]).size().reset_index(name='counts')"
      ],
      "execution_count": 16,
      "outputs": [
        {
          "output_type": "execute_result",
          "data": {
            "text/html": [
              "<div>\n",
              "<style scoped>\n",
              "    .dataframe tbody tr th:only-of-type {\n",
              "        vertical-align: middle;\n",
              "    }\n",
              "\n",
              "    .dataframe tbody tr th {\n",
              "        vertical-align: top;\n",
              "    }\n",
              "\n",
              "    .dataframe thead th {\n",
              "        text-align: right;\n",
              "    }\n",
              "</style>\n",
              "<table border=\"1\" class=\"dataframe\">\n",
              "  <thead>\n",
              "    <tr style=\"text-align: right;\">\n",
              "      <th></th>\n",
              "      <th>SIGLA DO PARTIDO</th>\n",
              "      <th>NOME DO MUNICIPIO</th>\n",
              "      <th>SITUACAO DO REGISTRO</th>\n",
              "      <th>counts</th>\n",
              "    </tr>\n",
              "  </thead>\n",
              "  <tbody>\n",
              "    <tr>\n",
              "      <th>0</th>\n",
              "      <td>DEM</td>\n",
              "      <td>AGUIAR</td>\n",
              "      <td>CANCELADO</td>\n",
              "      <td>87</td>\n",
              "    </tr>\n",
              "    <tr>\n",
              "      <th>1</th>\n",
              "      <td>DEM</td>\n",
              "      <td>AGUIAR</td>\n",
              "      <td>DESFILIADO</td>\n",
              "      <td>3</td>\n",
              "    </tr>\n",
              "    <tr>\n",
              "      <th>2</th>\n",
              "      <td>DEM</td>\n",
              "      <td>AGUIAR</td>\n",
              "      <td>REGULAR</td>\n",
              "      <td>104</td>\n",
              "    </tr>\n",
              "    <tr>\n",
              "      <th>3</th>\n",
              "      <td>DEM</td>\n",
              "      <td>ALAGOA GRANDE</td>\n",
              "      <td>CANCELADO</td>\n",
              "      <td>124</td>\n",
              "    </tr>\n",
              "    <tr>\n",
              "      <th>4</th>\n",
              "      <td>DEM</td>\n",
              "      <td>ALAGOA GRANDE</td>\n",
              "      <td>DESFILIADO</td>\n",
              "      <td>28</td>\n",
              "    </tr>\n",
              "    <tr>\n",
              "      <th>...</th>\n",
              "      <td>...</td>\n",
              "      <td>...</td>\n",
              "      <td>...</td>\n",
              "      <td>...</td>\n",
              "    </tr>\n",
              "    <tr>\n",
              "      <th>8966</th>\n",
              "      <td>PV</td>\n",
              "      <td>TACIMA</td>\n",
              "      <td>REGULAR</td>\n",
              "      <td>11</td>\n",
              "    </tr>\n",
              "    <tr>\n",
              "      <th>8967</th>\n",
              "      <td>PV</td>\n",
              "      <td>TEIXEIRA</td>\n",
              "      <td>CANCELADO</td>\n",
              "      <td>1</td>\n",
              "    </tr>\n",
              "    <tr>\n",
              "      <th>8968</th>\n",
              "      <td>PV</td>\n",
              "      <td>TEIXEIRA</td>\n",
              "      <td>REGULAR</td>\n",
              "      <td>27</td>\n",
              "    </tr>\n",
              "    <tr>\n",
              "      <th>8969</th>\n",
              "      <td>PV</td>\n",
              "      <td>UIRAÚNA</td>\n",
              "      <td>CANCELADO</td>\n",
              "      <td>26</td>\n",
              "    </tr>\n",
              "    <tr>\n",
              "      <th>8970</th>\n",
              "      <td>PV</td>\n",
              "      <td>UIRAÚNA</td>\n",
              "      <td>REGULAR</td>\n",
              "      <td>14</td>\n",
              "    </tr>\n",
              "  </tbody>\n",
              "</table>\n",
              "<p>8971 rows × 4 columns</p>\n",
              "</div>"
            ],
            "text/plain": [
              "     SIGLA DO PARTIDO NOME DO MUNICIPIO SITUACAO DO REGISTRO  counts\n",
              "0                 DEM            AGUIAR            CANCELADO      87\n",
              "1                 DEM            AGUIAR           DESFILIADO       3\n",
              "2                 DEM            AGUIAR              REGULAR     104\n",
              "3                 DEM     ALAGOA GRANDE            CANCELADO     124\n",
              "4                 DEM     ALAGOA GRANDE           DESFILIADO      28\n",
              "...               ...               ...                  ...     ...\n",
              "8966               PV            TACIMA              REGULAR      11\n",
              "8967               PV          TEIXEIRA            CANCELADO       1\n",
              "8968               PV          TEIXEIRA              REGULAR      27\n",
              "8969               PV           UIRAÚNA            CANCELADO      26\n",
              "8970               PV           UIRAÚNA              REGULAR      14\n",
              "\n",
              "[8971 rows x 4 columns]"
            ]
          },
          "metadata": {
            "tags": []
          },
          "execution_count": 16
        }
      ]
    },
    {
      "cell_type": "code",
      "metadata": {
        "id": "4a7A8tAsPXDG"
      },
      "source": [
        ""
      ],
      "execution_count": null,
      "outputs": []
    }
  ]
}