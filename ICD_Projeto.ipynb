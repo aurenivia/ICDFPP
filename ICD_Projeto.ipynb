{
  "nbformat": 4,
  "nbformat_minor": 0,
  "metadata": {
    "colab": {
      "name": "ICD - Projeto.ipynb",
      "provenance": [],
      "collapsed_sections": [],
      "toc_visible": true
    },
    "kernelspec": {
      "name": "python3",
      "display_name": "Python 3"
    },
    "widgets": {
      "application/vnd.jupyter.widget-state+json": {
        "7e4d0c33c3584da0a89b8042c6ced219": {
          "model_module": "@jupyter-widgets/controls",
          "model_name": "HBoxModel",
          "state": {
            "_view_name": "HBoxView",
            "_dom_classes": [],
            "_model_name": "HBoxModel",
            "_view_module": "@jupyter-widgets/controls",
            "_model_module_version": "1.5.0",
            "_view_count": null,
            "_view_module_version": "1.5.0",
            "box_style": "",
            "layout": "IPY_MODEL_93a4e76f1b5f45d7ad357d1ac76c0541",
            "_model_module": "@jupyter-widgets/controls",
            "children": [
              "IPY_MODEL_855252426219406480d8f659f829e55c",
              "IPY_MODEL_51c7248f792a492bb29669ed9f2d6bf8"
            ]
          }
        },
        "93a4e76f1b5f45d7ad357d1ac76c0541": {
          "model_module": "@jupyter-widgets/base",
          "model_name": "LayoutModel",
          "state": {
            "_view_name": "LayoutView",
            "grid_template_rows": null,
            "right": null,
            "justify_content": null,
            "_view_module": "@jupyter-widgets/base",
            "overflow": null,
            "_model_module_version": "1.2.0",
            "_view_count": null,
            "flex_flow": null,
            "width": null,
            "min_width": null,
            "border": null,
            "align_items": null,
            "bottom": null,
            "_model_module": "@jupyter-widgets/base",
            "top": null,
            "grid_column": null,
            "overflow_y": null,
            "overflow_x": null,
            "grid_auto_flow": null,
            "grid_area": null,
            "grid_template_columns": null,
            "flex": null,
            "_model_name": "LayoutModel",
            "justify_items": null,
            "grid_row": null,
            "max_height": null,
            "align_content": null,
            "visibility": null,
            "align_self": null,
            "height": null,
            "min_height": null,
            "padding": null,
            "grid_auto_rows": null,
            "grid_gap": null,
            "max_width": null,
            "order": null,
            "_view_module_version": "1.2.0",
            "grid_template_areas": null,
            "object_position": null,
            "object_fit": null,
            "grid_auto_columns": null,
            "margin": null,
            "display": null,
            "left": null
          }
        },
        "855252426219406480d8f659f829e55c": {
          "model_module": "@jupyter-widgets/controls",
          "model_name": "FloatProgressModel",
          "state": {
            "_view_name": "ProgressView",
            "style": "IPY_MODEL_48bda0c58b2d4c31b00eee6ee0fe6bb7",
            "_dom_classes": [],
            "description": "100%",
            "_model_name": "FloatProgressModel",
            "bar_style": "success",
            "max": 28,
            "_view_module": "@jupyter-widgets/controls",
            "_model_module_version": "1.5.0",
            "value": 28,
            "_view_count": null,
            "_view_module_version": "1.5.0",
            "orientation": "horizontal",
            "min": 0,
            "description_tooltip": null,
            "_model_module": "@jupyter-widgets/controls",
            "layout": "IPY_MODEL_2aed486f524e445abacc827b30b8779e"
          }
        },
        "51c7248f792a492bb29669ed9f2d6bf8": {
          "model_module": "@jupyter-widgets/controls",
          "model_name": "HTMLModel",
          "state": {
            "_view_name": "HTMLView",
            "style": "IPY_MODEL_7cc3ad36e91a458caf45afcfe6b35748",
            "_dom_classes": [],
            "description": "",
            "_model_name": "HTMLModel",
            "placeholder": "​",
            "_view_module": "@jupyter-widgets/controls",
            "_model_module_version": "1.5.0",
            "value": " 28/28 [08:07&lt;00:00, 17.41s/it]",
            "_view_count": null,
            "_view_module_version": "1.5.0",
            "description_tooltip": null,
            "_model_module": "@jupyter-widgets/controls",
            "layout": "IPY_MODEL_36fbabd3c73f471db79a4da8f8517769"
          }
        },
        "48bda0c58b2d4c31b00eee6ee0fe6bb7": {
          "model_module": "@jupyter-widgets/controls",
          "model_name": "ProgressStyleModel",
          "state": {
            "_view_name": "StyleView",
            "_model_name": "ProgressStyleModel",
            "description_width": "initial",
            "_view_module": "@jupyter-widgets/base",
            "_model_module_version": "1.5.0",
            "_view_count": null,
            "_view_module_version": "1.2.0",
            "bar_color": null,
            "_model_module": "@jupyter-widgets/controls"
          }
        },
        "2aed486f524e445abacc827b30b8779e": {
          "model_module": "@jupyter-widgets/base",
          "model_name": "LayoutModel",
          "state": {
            "_view_name": "LayoutView",
            "grid_template_rows": null,
            "right": null,
            "justify_content": null,
            "_view_module": "@jupyter-widgets/base",
            "overflow": null,
            "_model_module_version": "1.2.0",
            "_view_count": null,
            "flex_flow": null,
            "width": null,
            "min_width": null,
            "border": null,
            "align_items": null,
            "bottom": null,
            "_model_module": "@jupyter-widgets/base",
            "top": null,
            "grid_column": null,
            "overflow_y": null,
            "overflow_x": null,
            "grid_auto_flow": null,
            "grid_area": null,
            "grid_template_columns": null,
            "flex": null,
            "_model_name": "LayoutModel",
            "justify_items": null,
            "grid_row": null,
            "max_height": null,
            "align_content": null,
            "visibility": null,
            "align_self": null,
            "height": null,
            "min_height": null,
            "padding": null,
            "grid_auto_rows": null,
            "grid_gap": null,
            "max_width": null,
            "order": null,
            "_view_module_version": "1.2.0",
            "grid_template_areas": null,
            "object_position": null,
            "object_fit": null,
            "grid_auto_columns": null,
            "margin": null,
            "display": null,
            "left": null
          }
        },
        "7cc3ad36e91a458caf45afcfe6b35748": {
          "model_module": "@jupyter-widgets/controls",
          "model_name": "DescriptionStyleModel",
          "state": {
            "_view_name": "StyleView",
            "_model_name": "DescriptionStyleModel",
            "description_width": "",
            "_view_module": "@jupyter-widgets/base",
            "_model_module_version": "1.5.0",
            "_view_count": null,
            "_view_module_version": "1.2.0",
            "_model_module": "@jupyter-widgets/controls"
          }
        },
        "36fbabd3c73f471db79a4da8f8517769": {
          "model_module": "@jupyter-widgets/base",
          "model_name": "LayoutModel",
          "state": {
            "_view_name": "LayoutView",
            "grid_template_rows": null,
            "right": null,
            "justify_content": null,
            "_view_module": "@jupyter-widgets/base",
            "overflow": null,
            "_model_module_version": "1.2.0",
            "_view_count": null,
            "flex_flow": null,
            "width": null,
            "min_width": null,
            "border": null,
            "align_items": null,
            "bottom": null,
            "_model_module": "@jupyter-widgets/base",
            "top": null,
            "grid_column": null,
            "overflow_y": null,
            "overflow_x": null,
            "grid_auto_flow": null,
            "grid_area": null,
            "grid_template_columns": null,
            "flex": null,
            "_model_name": "LayoutModel",
            "justify_items": null,
            "grid_row": null,
            "max_height": null,
            "align_content": null,
            "visibility": null,
            "align_self": null,
            "height": null,
            "min_height": null,
            "padding": null,
            "grid_auto_rows": null,
            "grid_gap": null,
            "max_width": null,
            "order": null,
            "_view_module_version": "1.2.0",
            "grid_template_areas": null,
            "object_position": null,
            "object_fit": null,
            "grid_auto_columns": null,
            "margin": null,
            "display": null,
            "left": null
          }
        }
      }
    }
  },
  "cells": [
    {
      "cell_type": "markdown",
      "metadata": {
        "id": "pNdMmInvEbbF"
      },
      "source": [
        "## Preparação de Dados\n",
        "Introdução à Ciência de Dados\n",
        "\n",
        "Aluna: Aurenívia Gomes da Costa\n"
      ]
    },
    {
      "cell_type": "markdown",
      "metadata": {
        "id": "w4AixjqRHPgB"
      },
      "source": [
        "http://agencia.tse.jus.br/estatistica/sead/eleitorado/filiados/uf/filiados_dem_ac.zip\n",
        "\n",
        "https://dados.gov.br/dataset/filiados-partidos-politicos\n"
      ]
    },
    {
      "cell_type": "markdown",
      "metadata": {
        "id": "DbVEBOy7c06z"
      },
      "source": [
        "# Parte 1: Passos Iniciais e criação do Dataset"
      ]
    },
    {
      "cell_type": "code",
      "metadata": {
        "id": "CxCeXsdnHT0p",
        "cellView": "form"
      },
      "source": [
        "#@markdown clique nessa célula para instalar as bibliotecas necessárias para a execução deste projeto\n",
        "\"\"\"\n",
        "%pip install get_wayback_machine "
      ],
      "execution_count": null,
      "outputs": []
    },
    {
      "cell_type": "code",
      "metadata": {
        "id": "gIyp9rmlMWiK",
        "colab": {
          "base_uri": "https://localhost:8080/",
          "height": 100,
          "referenced_widgets": [
            "7e4d0c33c3584da0a89b8042c6ced219",
            "93a4e76f1b5f45d7ad357d1ac76c0541",
            "855252426219406480d8f659f829e55c",
            "51c7248f792a492bb29669ed9f2d6bf8",
            "48bda0c58b2d4c31b00eee6ee0fe6bb7",
            "2aed486f524e445abacc827b30b8779e",
            "7cc3ad36e91a458caf45afcfe6b35748",
            "36fbabd3c73f471db79a4da8f8517769"
          ]
        },
        "cellView": "form",
        "outputId": "56488c4b-c23b-453b-9e80-c599cca326a9"
      },
      "source": [
        "#@title Passo 1: download e extração dos arquivos:\n",
        "#@markdown nessa passo, iremos baixar os arquivos do dataset via wayback machine e extrair seus conteúdos.\n",
        "import requests, zipfile, io, os\n",
        "import get_wayback_machine\n",
        "from tqdm.notebook import tqdm # imprimir barra de progresso\n",
        "\n",
        "# Lista de Partidos e Estados\n",
        "\n",
        "PARTIDOS = ['dem','pc_do_b','pcb','pco','pdt','phs','pmdb','pmn','pp','ppl',\n",
        "            'pps','pr','prb','prtb','psb','psc','psd','psdb','psdc','psl',\n",
        "            'psol','pstu','pt','pt_do_b','ptb','ptc','ptn','pv']\n",
        "\n",
        "# para esse momento, escolhendo o estado do paraíba\n",
        "ESTADOS = [ 'pb']\n",
        "\n",
        "urls = [f'http://agencia.tse.jus.br/estatistica/sead/eleitorado/filiados/uf/filiados_{partido}_pb.zip' \\\n",
        "        for uf in ESTADOS for partido in PARTIDOS]\n",
        "\n",
        "\n",
        "# Baixar e extrair os dados\n",
        "\n",
        "acertos, erros = 0,0\n",
        "\n",
        "for url in tqdm(urls):\n",
        "  r = get_wayback_machine.get(url)\n",
        "  if r is not None and r.status_code == 200:\n",
        "    z = zipfile.ZipFile(io.BytesIO(r.content))\\\n",
        "    .extractall('filiados/')\n",
        "    acertos += 1;\n",
        "  else:\n",
        "    print(f\"erro {url}\")\n",
        "    erros += 1;\n",
        "\n",
        "print(f\"arquivos baixados com sucesso {acertos}, erros: {erros}\");\n",
        "\n",
        "# Listar e extrair os arquivos.\n",
        "\n",
        "CAMINHO = '/content/filiados/aplic/sead/lista_filiados/uf/'\n",
        "arquivos = []\n",
        "\n",
        "for _, __, files in os.walk(CAMINHO):\n",
        "  for file in files:\n",
        "    if file.endswith(\".csv\"):\n",
        "      arquivos.append(CAMINHO + file)\n",
        "\n",
        "print(\"arquivos extraídos e listados com sucesso\");"
      ],
      "execution_count": 2,
      "outputs": [
        {
          "output_type": "display_data",
          "data": {
            "application/vnd.jupyter.widget-view+json": {
              "model_id": "7e4d0c33c3584da0a89b8042c6ced219",
              "version_minor": 0,
              "version_major": 2
            },
            "text/plain": [
              "HBox(children=(FloatProgress(value=0.0, max=28.0), HTML(value='')))"
            ]
          },
          "metadata": {
            "tags": []
          }
        },
        {
          "output_type": "stream",
          "text": [
            "\n",
            "arquivos baixados com sucesso 28, erros: 0\n",
            "arquivos extraídos e listados com sucesso\n"
          ],
          "name": "stdout"
        }
      ]
    },
    {
      "cell_type": "code",
      "metadata": {
        "id": "kSyz2YQaYOp-",
        "colab": {
          "base_uri": "https://localhost:8080/",
          "height": 487
        },
        "cellView": "form",
        "outputId": "f11610e8-42a1-4adb-88c0-cab201ed8594"
      },
      "source": [
        "#@markdown Passo 2 - processamento das planilhas e criação do dataset\n",
        "import pandas as pd\n",
        "\n",
        "COLUNAS_USADAS = ['SIGLA DO PARTIDO',\n",
        "       'CODIGO DO MUNICIPIO', 'NOME DO MUNICIPIO', 'ZONA ELEITORAL',\n",
        "       'SECAO ELEITORAL', 'DATA DA FILIACAO', 'SITUACAO DO REGISTRO',\n",
        "       'DATA DO PROCESSAMENTO', 'DATA DA DESFILIACAO',\n",
        "       'DATA DO CANCELAMENTO', 'DATA DA REGULARIZACAO',\n",
        "       'MOTIVO DO CANCELAMENTO']\n",
        "\n",
        "DTYPES = {'CODIGO DO MUNICIPIO': 'object',\n",
        "          'MOTIVO DO CANCELAMENTO': 'object',\n",
        "          'NOME DO MUNICIPIO': 'object',\n",
        "          'SECAO ELEITORAL': 'object',\n",
        "          'SIGLA DO PARTIDO': 'object',\n",
        "          'SITUACAO DO REGISTRO': 'object',\n",
        "          'UF': 'object',\n",
        "          'ZONA ELEITORAL': 'object'}\n",
        "\n",
        "DATAS = ['DATA DA FILIACAO', \n",
        "         'DATA DA REGULARIZACAO', \n",
        "         'DATA DA DESFILIACAO', \n",
        "         'DATA DO CANCELAMENTO',\n",
        "         'DATA DO PROCESSAMENTO']\n",
        "\n",
        "filiados_importados = \\\n",
        "    pd.concat([pd.read_csv(arquivo, \n",
        "                error_bad_lines=False,\n",
        "                engine='python',\n",
        "                sep=None, \n",
        "                encoding='latin-1',\n",
        "                parse_dates=DATAS,\n",
        "                date_parser=lambda c: pd.to_datetime(c, errors='coerce'),\n",
        "                usecols = COLUNAS_USADAS, \n",
        "                dtype=DTYPES) \\\n",
        "              for arquivo in arquivos], \n",
        "          ignore_index=True);\n",
        "\n",
        "\n",
        "df = filiados_importados\n",
        "df"
      ],
      "execution_count": 4,
      "outputs": [
        {
          "output_type": "execute_result",
          "data": {
            "text/html": [
              "<div>\n",
              "<style scoped>\n",
              "    .dataframe tbody tr th:only-of-type {\n",
              "        vertical-align: middle;\n",
              "    }\n",
              "\n",
              "    .dataframe tbody tr th {\n",
              "        vertical-align: top;\n",
              "    }\n",
              "\n",
              "    .dataframe thead th {\n",
              "        text-align: right;\n",
              "    }\n",
              "</style>\n",
              "<table border=\"1\" class=\"dataframe\">\n",
              "  <thead>\n",
              "    <tr style=\"text-align: right;\">\n",
              "      <th></th>\n",
              "      <th>SIGLA DO PARTIDO</th>\n",
              "      <th>CODIGO DO MUNICIPIO</th>\n",
              "      <th>NOME DO MUNICIPIO</th>\n",
              "      <th>ZONA ELEITORAL</th>\n",
              "      <th>SECAO ELEITORAL</th>\n",
              "      <th>DATA DA FILIACAO</th>\n",
              "      <th>SITUACAO DO REGISTRO</th>\n",
              "      <th>DATA DO PROCESSAMENTO</th>\n",
              "      <th>DATA DA DESFILIACAO</th>\n",
              "      <th>DATA DO CANCELAMENTO</th>\n",
              "      <th>DATA DA REGULARIZACAO</th>\n",
              "      <th>MOTIVO DO CANCELAMENTO</th>\n",
              "    </tr>\n",
              "  </thead>\n",
              "  <tbody>\n",
              "    <tr>\n",
              "      <th>0</th>\n",
              "      <td>PMN</td>\n",
              "      <td>21172</td>\n",
              "      <td>PATOS</td>\n",
              "      <td>28</td>\n",
              "      <td>129</td>\n",
              "      <td>2007-03-10</td>\n",
              "      <td>REGULAR</td>\n",
              "      <td>2017-10-14</td>\n",
              "      <td>NaT</td>\n",
              "      <td>NaT</td>\n",
              "      <td>NaT</td>\n",
              "      <td>NaN</td>\n",
              "    </tr>\n",
              "    <tr>\n",
              "      <th>1</th>\n",
              "      <td>PMN</td>\n",
              "      <td>19399</td>\n",
              "      <td>BELÉM</td>\n",
              "      <td>54</td>\n",
              "      <td>17</td>\n",
              "      <td>2007-09-20</td>\n",
              "      <td>CANCELADO</td>\n",
              "      <td>2016-04-15</td>\n",
              "      <td>NaT</td>\n",
              "      <td>2011-12-15</td>\n",
              "      <td>NaT</td>\n",
              "      <td>Judicial</td>\n",
              "    </tr>\n",
              "    <tr>\n",
              "      <th>2</th>\n",
              "      <td>PMN</td>\n",
              "      <td>20516</td>\n",
              "      <td>JOÃO PESSOA</td>\n",
              "      <td>64</td>\n",
              "      <td>104</td>\n",
              "      <td>2003-09-30</td>\n",
              "      <td>REGULAR</td>\n",
              "      <td>2017-10-14</td>\n",
              "      <td>NaT</td>\n",
              "      <td>NaT</td>\n",
              "      <td>NaT</td>\n",
              "      <td>NaN</td>\n",
              "    </tr>\n",
              "    <tr>\n",
              "      <th>3</th>\n",
              "      <td>PMN</td>\n",
              "      <td>19933</td>\n",
              "      <td>CONDE</td>\n",
              "      <td>73</td>\n",
              "      <td>123</td>\n",
              "      <td>2003-03-10</td>\n",
              "      <td>CANCELADO</td>\n",
              "      <td>2016-04-15</td>\n",
              "      <td>2008-07-17</td>\n",
              "      <td>2008-07-17</td>\n",
              "      <td>NaT</td>\n",
              "      <td>Judicial</td>\n",
              "    </tr>\n",
              "    <tr>\n",
              "      <th>4</th>\n",
              "      <td>PMN</td>\n",
              "      <td>20516</td>\n",
              "      <td>JOÃO PESSOA</td>\n",
              "      <td>77</td>\n",
              "      <td>56</td>\n",
              "      <td>2003-02-10</td>\n",
              "      <td>DESFILIADO</td>\n",
              "      <td>2017-10-14</td>\n",
              "      <td>2015-12-11</td>\n",
              "      <td>NaT</td>\n",
              "      <td>NaT</td>\n",
              "      <td>NaN</td>\n",
              "    </tr>\n",
              "    <tr>\n",
              "      <th>...</th>\n",
              "      <td>...</td>\n",
              "      <td>...</td>\n",
              "      <td>...</td>\n",
              "      <td>...</td>\n",
              "      <td>...</td>\n",
              "      <td>...</td>\n",
              "      <td>...</td>\n",
              "      <td>...</td>\n",
              "      <td>...</td>\n",
              "      <td>...</td>\n",
              "      <td>...</td>\n",
              "      <td>...</td>\n",
              "    </tr>\n",
              "    <tr>\n",
              "      <th>476739</th>\n",
              "      <td>PPL</td>\n",
              "      <td>20397</td>\n",
              "      <td>ITABAIANA</td>\n",
              "      <td>6</td>\n",
              "      <td>81</td>\n",
              "      <td>2012-11-02</td>\n",
              "      <td>CANCELADO</td>\n",
              "      <td>2013-10-18</td>\n",
              "      <td>2012-05-24</td>\n",
              "      <td>2012-05-24</td>\n",
              "      <td>NaT</td>\n",
              "      <td>Judicial</td>\n",
              "    </tr>\n",
              "    <tr>\n",
              "      <th>476740</th>\n",
              "      <td>PPL</td>\n",
              "      <td>20397</td>\n",
              "      <td>ITABAIANA</td>\n",
              "      <td>6</td>\n",
              "      <td>29</td>\n",
              "      <td>2011-06-10</td>\n",
              "      <td>CANCELADO</td>\n",
              "      <td>2018-10-16</td>\n",
              "      <td>NaT</td>\n",
              "      <td>2015-03-08</td>\n",
              "      <td>NaT</td>\n",
              "      <td>A pedido do eleitor</td>\n",
              "    </tr>\n",
              "    <tr>\n",
              "      <th>476741</th>\n",
              "      <td>PPL</td>\n",
              "      <td>20397</td>\n",
              "      <td>ITABAIANA</td>\n",
              "      <td>6</td>\n",
              "      <td>80</td>\n",
              "      <td>2011-06-10</td>\n",
              "      <td>CANCELADO</td>\n",
              "      <td>2013-10-18</td>\n",
              "      <td>2013-10-10</td>\n",
              "      <td>2013-10-10</td>\n",
              "      <td>NaT</td>\n",
              "      <td>A pedido do eleitor</td>\n",
              "    </tr>\n",
              "    <tr>\n",
              "      <th>476742</th>\n",
              "      <td>PPL</td>\n",
              "      <td>20397</td>\n",
              "      <td>ITABAIANA</td>\n",
              "      <td>6</td>\n",
              "      <td>29</td>\n",
              "      <td>2011-06-10</td>\n",
              "      <td>REGULAR</td>\n",
              "      <td>2013-10-18</td>\n",
              "      <td>NaT</td>\n",
              "      <td>NaT</td>\n",
              "      <td>NaT</td>\n",
              "      <td>NaN</td>\n",
              "    </tr>\n",
              "    <tr>\n",
              "      <th>476743</th>\n",
              "      <td>PPL</td>\n",
              "      <td>21750</td>\n",
              "      <td>SANTA RITA</td>\n",
              "      <td>2</td>\n",
              "      <td>106</td>\n",
              "      <td>2011-07-10</td>\n",
              "      <td>CANCELADO</td>\n",
              "      <td>2016-04-15</td>\n",
              "      <td>2012-08-06</td>\n",
              "      <td>2012-08-06</td>\n",
              "      <td>NaT</td>\n",
              "      <td>Cancelamento automático</td>\n",
              "    </tr>\n",
              "  </tbody>\n",
              "</table>\n",
              "<p>476744 rows × 12 columns</p>\n",
              "</div>"
            ],
            "text/plain": [
              "       SIGLA DO PARTIDO  ...   MOTIVO DO CANCELAMENTO\n",
              "0                   PMN  ...                      NaN\n",
              "1                   PMN  ...                 Judicial\n",
              "2                   PMN  ...                      NaN\n",
              "3                   PMN  ...                 Judicial\n",
              "4                   PMN  ...                      NaN\n",
              "...                 ...  ...                      ...\n",
              "476739              PPL  ...                 Judicial\n",
              "476740              PPL  ...      A pedido do eleitor\n",
              "476741              PPL  ...      A pedido do eleitor\n",
              "476742              PPL  ...                      NaN\n",
              "476743              PPL  ...  Cancelamento automático\n",
              "\n",
              "[476744 rows x 12 columns]"
            ]
          },
          "metadata": {
            "tags": []
          },
          "execution_count": 4
        }
      ]
    },
    {
      "cell_type": "code",
      "metadata": {
        "colab": {
          "base_uri": "https://localhost:8080/"
        },
        "id": "UphR0836egOv",
        "outputId": "89c5a908-7b46-4581-fe4b-218cefa1a958"
      },
      "source": [
        "df.dtypes # verificando seus tipos de dados"
      ],
      "execution_count": 5,
      "outputs": [
        {
          "output_type": "execute_result",
          "data": {
            "text/plain": [
              "SIGLA DO PARTIDO                  object\n",
              "CODIGO DO MUNICIPIO               object\n",
              "NOME DO MUNICIPIO                 object\n",
              "ZONA ELEITORAL                    object\n",
              "SECAO ELEITORAL                   object\n",
              "DATA DA FILIACAO          datetime64[ns]\n",
              "SITUACAO DO REGISTRO              object\n",
              "DATA DO PROCESSAMENTO     datetime64[ns]\n",
              "DATA DA DESFILIACAO       datetime64[ns]\n",
              "DATA DO CANCELAMENTO      datetime64[ns]\n",
              "DATA DA REGULARIZACAO     datetime64[ns]\n",
              "MOTIVO DO CANCELAMENTO            object\n",
              "dtype: object"
            ]
          },
          "metadata": {
            "tags": []
          },
          "execution_count": 5
        }
      ]
    },
    {
      "cell_type": "markdown",
      "metadata": {
        "id": "t7mmfoFKgNWW"
      },
      "source": [
        "# Parte 2 - Exploração Inicial e Boxplot"
      ]
    },
    {
      "cell_type": "code",
      "metadata": {
        "id": "MdLzpvjEYsbN",
        "colab": {
          "base_uri": "https://localhost:8080/"
        },
        "outputId": "c44dba7b-5e67-4481-92a2-19e50e9d6f59"
      },
      "source": [
        "contagem_por_partido = df[\"SIGLA DO PARTIDO\"].value_counts()\n",
        "# filiados_paraiba[\"SITUACAO DO REGISTRO\"].value_counts().plot.bar()\n",
        "# filiados_paraiba[\"NOME DO MUNICIPIO\"].value_counts()\n",
        "\n",
        "print(f\"Filiados por partido:\\n\\\n",
        "MÉDIA: {round(contagem_por_partido.mean(),2)}\\n\\\n",
        "VARIÂNCIA: {round(contagem_por_partido.var(),2)}\\n\\\n",
        "DESVIO PADRÃO: {round(contagem_por_partido.std(),2)}\\n\\\n",
        "MEDIANA: {round(contagem_por_partido.median(),2)}\\n\\\n",
        "MODA: {round(contagem_por_partido.mode()[0],2)}\")"
      ],
      "execution_count": 8,
      "outputs": [
        {
          "output_type": "stream",
          "text": [
            "Filiados por partido:\n",
            "MÉDIA: 17026.57\n",
            "VARIÂNCIA: 367153508.77\n",
            "DESVIO PADRÃO: 19161.25\n",
            "MEDIANA: 8932.0\n",
            "MODA: 123\n"
          ],
          "name": "stdout"
        }
      ]
    },
    {
      "cell_type": "code",
      "metadata": {
        "id": "_QzDkhimPc_Y",
        "colab": {
          "base_uri": "https://localhost:8080/",
          "height": 282
        },
        "outputId": "9837be8f-50c7-4b62-a675-a8f144ded1a9"
      },
      "source": [
        "# fazendo boxplot do dado\n",
        "contagem_por_partido.plot.box()"
      ],
      "execution_count": null,
      "outputs": [
        {
          "output_type": "execute_result",
          "data": {
            "text/plain": [
              "<matplotlib.axes._subplots.AxesSubplot at 0x7f15416d9438>"
            ]
          },
          "metadata": {
            "tags": []
          },
          "execution_count": 33
        },
        {
          "output_type": "display_data",
          "data": {
            "image/png": "[encoded data removed]",
            "text/plain": [
              "<Figure size 432x288 with 1 Axes>"
            ]
          },
          "metadata": {
            "tags": [],
            "needs_background": "light"
          }
        }
      ]
    },
    {
      "cell_type": "code",
      "metadata": {
        "id": "4a7A8tAsPXDG"
      },
      "source": [
        "filiados_paraiba.to_csv(\"filiados.csv\");"
      ],
      "execution_count": null,
      "outputs": []
    },
    {
      "cell_type": "markdown",
      "metadata": {
        "id": "W0YUzyI1sLug"
      },
      "source": [
        "# Parte 3\n",
        "## Visualização de Dados\n",
        "\n"
      ]
    },
    {
      "cell_type": "code",
      "metadata": {
        "id": "CpL3MKCjx9PB",
        "colab": {
          "base_uri": "https://localhost:8080/",
          "height": 419
        },
        "cellView": "form",
        "outputId": "5d34e98f-4917-4594-9240-8c19c74a6044"
      },
      "source": [
        "#@markdown Preparação de dados para visualização\n",
        "filiados_paraiba.groupby(by=[\"SIGLA DO PARTIDO\", \"NOME DO MUNICIPIO\", \"SITUACAO DO REGISTRO\"]).size().reset_index(name='counts')"
      ],
      "execution_count": null,
      "outputs": [
        {
          "output_type": "execute_result",
          "data": {
            "text/html": [
              "<div>\n",
              "<style scoped>\n",
              "    .dataframe tbody tr th:only-of-type {\n",
              "        vertical-align: middle;\n",
              "    }\n",
              "\n",
              "    .dataframe tbody tr th {\n",
              "        vertical-align: top;\n",
              "    }\n",
              "\n",
              "    .dataframe thead th {\n",
              "        text-align: right;\n",
              "    }\n",
              "</style>\n",
              "<table border=\"1\" class=\"dataframe\">\n",
              "  <thead>\n",
              "    <tr style=\"text-align: right;\">\n",
              "      <th></th>\n",
              "      <th>SIGLA DO PARTIDO</th>\n",
              "      <th>NOME DO MUNICIPIO</th>\n",
              "      <th>SITUACAO DO REGISTRO</th>\n",
              "      <th>counts</th>\n",
              "    </tr>\n",
              "  </thead>\n",
              "  <tbody>\n",
              "    <tr>\n",
              "      <th>0</th>\n",
              "      <td>DEM</td>\n",
              "      <td>AGUIAR</td>\n",
              "      <td>CANCELADO</td>\n",
              "      <td>87</td>\n",
              "    </tr>\n",
              "    <tr>\n",
              "      <th>1</th>\n",
              "      <td>DEM</td>\n",
              "      <td>AGUIAR</td>\n",
              "      <td>DESFILIADO</td>\n",
              "      <td>3</td>\n",
              "    </tr>\n",
              "    <tr>\n",
              "      <th>2</th>\n",
              "      <td>DEM</td>\n",
              "      <td>AGUIAR</td>\n",
              "      <td>REGULAR</td>\n",
              "      <td>104</td>\n",
              "    </tr>\n",
              "    <tr>\n",
              "      <th>3</th>\n",
              "      <td>DEM</td>\n",
              "      <td>ALAGOA GRANDE</td>\n",
              "      <td>CANCELADO</td>\n",
              "      <td>124</td>\n",
              "    </tr>\n",
              "    <tr>\n",
              "      <th>4</th>\n",
              "      <td>DEM</td>\n",
              "      <td>ALAGOA GRANDE</td>\n",
              "      <td>DESFILIADO</td>\n",
              "      <td>28</td>\n",
              "    </tr>\n",
              "    <tr>\n",
              "      <th>...</th>\n",
              "      <td>...</td>\n",
              "      <td>...</td>\n",
              "      <td>...</td>\n",
              "      <td>...</td>\n",
              "    </tr>\n",
              "    <tr>\n",
              "      <th>8966</th>\n",
              "      <td>PV</td>\n",
              "      <td>TACIMA</td>\n",
              "      <td>REGULAR</td>\n",
              "      <td>11</td>\n",
              "    </tr>\n",
              "    <tr>\n",
              "      <th>8967</th>\n",
              "      <td>PV</td>\n",
              "      <td>TEIXEIRA</td>\n",
              "      <td>CANCELADO</td>\n",
              "      <td>1</td>\n",
              "    </tr>\n",
              "    <tr>\n",
              "      <th>8968</th>\n",
              "      <td>PV</td>\n",
              "      <td>TEIXEIRA</td>\n",
              "      <td>REGULAR</td>\n",
              "      <td>27</td>\n",
              "    </tr>\n",
              "    <tr>\n",
              "      <th>8969</th>\n",
              "      <td>PV</td>\n",
              "      <td>UIRAÚNA</td>\n",
              "      <td>CANCELADO</td>\n",
              "      <td>26</td>\n",
              "    </tr>\n",
              "    <tr>\n",
              "      <th>8970</th>\n",
              "      <td>PV</td>\n",
              "      <td>UIRAÚNA</td>\n",
              "      <td>REGULAR</td>\n",
              "      <td>14</td>\n",
              "    </tr>\n",
              "  </tbody>\n",
              "</table>\n",
              "<p>8971 rows × 4 columns</p>\n",
              "</div>"
            ],
            "text/plain": [
              "     SIGLA DO PARTIDO NOME DO MUNICIPIO SITUACAO DO REGISTRO  counts\n",
              "0                 DEM            AGUIAR            CANCELADO      87\n",
              "1                 DEM            AGUIAR           DESFILIADO       3\n",
              "2                 DEM            AGUIAR              REGULAR     104\n",
              "3                 DEM     ALAGOA GRANDE            CANCELADO     124\n",
              "4                 DEM     ALAGOA GRANDE           DESFILIADO      28\n",
              "...               ...               ...                  ...     ...\n",
              "8966               PV            TACIMA              REGULAR      11\n",
              "8967               PV          TEIXEIRA            CANCELADO       1\n",
              "8968               PV          TEIXEIRA              REGULAR      27\n",
              "8969               PV           UIRAÚNA            CANCELADO      26\n",
              "8970               PV           UIRAÚNA              REGULAR      14\n",
              "\n",
              "[8971 rows x 4 columns]"
            ]
          },
          "metadata": {
            "tags": []
          },
          "execution_count": 5
        }
      ]
    },
    {
      "cell_type": "code",
      "metadata": {
        "id": "iPEIrakCs3Xh",
        "colab": {
          "base_uri": "https://localhost:8080/",
          "height": 621
        },
        "cellView": "form",
        "outputId": "c360ea10-8f39-4d4c-b0a0-4b8029982488"
      },
      "source": [
        "#@title Registro Ativos de Pessoas Físicas em Partidos\n",
        "import seaborn as sns\n",
        "filiados_por_partido = filiados_paraiba\\\n",
        "  [filiados_paraiba['SITUACAO DO REGISTRO'] == \"REGULAR\"]\\\n",
        "  .groupby(by=[\"SIGLA DO PARTIDO\"])\\\n",
        "  .size()\\\n",
        "  .reset_index(name='QUANTIDADE')\\\n",
        "  .sort_values(by=\"QUANTIDADE\", ascending=False)\\\n",
        "  .head(10)\n",
        "  # .set_index('SIGLA DO PARTIDO')\n",
        "\n",
        "sns.barplot(data=filiados_por_partido, x=\"SIGLA DO PARTIDO\", y=\"QUANTIDADE\")\n",
        "filiados_por_partido"
      ],
      "execution_count": null,
      "outputs": [
        {
          "output_type": "execute_result",
          "data": {
            "text/html": [
              "<div>\n",
              "<style scoped>\n",
              "    .dataframe tbody tr th:only-of-type {\n",
              "        vertical-align: middle;\n",
              "    }\n",
              "\n",
              "    .dataframe tbody tr th {\n",
              "        vertical-align: top;\n",
              "    }\n",
              "\n",
              "    .dataframe thead th {\n",
              "        text-align: right;\n",
              "    }\n",
              "</style>\n",
              "<table border=\"1\" class=\"dataframe\">\n",
              "  <thead>\n",
              "    <tr style=\"text-align: right;\">\n",
              "      <th></th>\n",
              "      <th>SIGLA DO PARTIDO</th>\n",
              "      <th>QUANTIDADE</th>\n",
              "    </tr>\n",
              "  </thead>\n",
              "  <tbody>\n",
              "    <tr>\n",
              "      <th>6</th>\n",
              "      <td>PMDB</td>\n",
              "      <td>49925</td>\n",
              "    </tr>\n",
              "    <tr>\n",
              "      <th>0</th>\n",
              "      <td>DEM</td>\n",
              "      <td>35726</td>\n",
              "    </tr>\n",
              "    <tr>\n",
              "      <th>17</th>\n",
              "      <td>PSDB</td>\n",
              "      <td>33908</td>\n",
              "    </tr>\n",
              "    <tr>\n",
              "      <th>22</th>\n",
              "      <td>PT</td>\n",
              "      <td>29050</td>\n",
              "    </tr>\n",
              "    <tr>\n",
              "      <th>8</th>\n",
              "      <td>PP</td>\n",
              "      <td>25622</td>\n",
              "    </tr>\n",
              "    <tr>\n",
              "      <th>24</th>\n",
              "      <td>PTB</td>\n",
              "      <td>21455</td>\n",
              "    </tr>\n",
              "    <tr>\n",
              "      <th>14</th>\n",
              "      <td>PSB</td>\n",
              "      <td>19717</td>\n",
              "    </tr>\n",
              "    <tr>\n",
              "      <th>11</th>\n",
              "      <td>PR</td>\n",
              "      <td>17333</td>\n",
              "    </tr>\n",
              "    <tr>\n",
              "      <th>4</th>\n",
              "      <td>PDT</td>\n",
              "      <td>16251</td>\n",
              "    </tr>\n",
              "    <tr>\n",
              "      <th>12</th>\n",
              "      <td>PRB</td>\n",
              "      <td>11151</td>\n",
              "    </tr>\n",
              "  </tbody>\n",
              "</table>\n",
              "</div>"
            ],
            "text/plain": [
              "   SIGLA DO PARTIDO  QUANTIDADE\n",
              "6              PMDB       49925\n",
              "0               DEM       35726\n",
              "17             PSDB       33908\n",
              "22               PT       29050\n",
              "8                PP       25622\n",
              "24              PTB       21455\n",
              "14              PSB       19717\n",
              "11               PR       17333\n",
              "4               PDT       16251\n",
              "12              PRB       11151"
            ]
          },
          "metadata": {
            "tags": []
          },
          "execution_count": 129
        },
        {
          "output_type": "display_data",
          "data": {
            "image/png": "[encoded data removed]",
            "text/plain": [
              "<Figure size 432x288 with 1 Axes>"
            ]
          },
          "metadata": {
            "tags": [],
            "needs_background": "light"
          }
        }
      ]
    },
    {
      "cell_type": "code",
      "metadata": {
        "id": "idhlpac87xT4",
        "colab": {
          "base_uri": "https://localhost:8080/",
          "height": 594
        },
        "cellView": "form",
        "outputId": "1210503e-e7cd-4aa5-baee-6bbd071ed112"
      },
      "source": [
        "#@title Registro Ativos de Pessoas Físicas em Partidos por MUNICÍPIO\n",
        "import seaborn as sns\n",
        "import matplotlib.pyplot as plt\n",
        "\n",
        "\n",
        "filiados_por_municipio = filiados_paraiba\\\n",
        "  [filiados_paraiba['SITUACAO DO REGISTRO'] == \"REGULAR\"]\\\n",
        "  .groupby(by=[\"NOME DO MUNICIPIO\"])\\\n",
        "  .size()\\\n",
        "  .reset_index(name='QUANTIDADE')\\\n",
        "  .sort_values(by=\"QUANTIDADE\", ascending=False)\\\n",
        "  .head(10)\n",
        "\n",
        "\n",
        "\n",
        "fig1, ax1 = plt.subplots()\n",
        "ax1.pie(filiados_por_municipio[\"QUANTIDADE\"], labels=filiados_por_municipio[\"NOME DO MUNICIPIO\"], autopct='%1.1f%%',\n",
        "        shadow=True, startangle=90)\n",
        "ax1.axis('equal')  # Equal aspect ratio ensures that pie is drawn as a circle.\n",
        "\n",
        "plt.show()\n",
        "filiados_por_municipio"
      ],
      "execution_count": null,
      "outputs": [
        {
          "output_type": "display_data",
          "data": {
            "image/png": "[encoded data removed]",
            "text/plain": [
              "<Figure size 432x288 with 1 Axes>"
            ]
          },
          "metadata": {
            "tags": []
          }
        },
        {
          "output_type": "execute_result",
          "data": {
            "text/html": [
              "<div>\n",
              "<style scoped>\n",
              "    .dataframe tbody tr th:only-of-type {\n",
              "        vertical-align: middle;\n",
              "    }\n",
              "\n",
              "    .dataframe tbody tr th {\n",
              "        vertical-align: top;\n",
              "    }\n",
              "\n",
              "    .dataframe thead th {\n",
              "        text-align: right;\n",
              "    }\n",
              "</style>\n",
              "<table border=\"1\" class=\"dataframe\">\n",
              "  <thead>\n",
              "    <tr style=\"text-align: right;\">\n",
              "      <th></th>\n",
              "      <th>NOME DO MUNICIPIO</th>\n",
              "      <th>QUANTIDADE</th>\n",
              "    </tr>\n",
              "  </thead>\n",
              "  <tbody>\n",
              "    <tr>\n",
              "      <th>93</th>\n",
              "      <td>JOÃO PESSOA</td>\n",
              "      <td>36536</td>\n",
              "    </tr>\n",
              "    <tr>\n",
              "      <th>48</th>\n",
              "      <td>CAMPINA GRANDE</td>\n",
              "      <td>20819</td>\n",
              "    </tr>\n",
              "    <tr>\n",
              "      <th>22</th>\n",
              "      <td>BAYEUX</td>\n",
              "      <td>7545</td>\n",
              "    </tr>\n",
              "    <tr>\n",
              "      <th>133</th>\n",
              "      <td>PATOS</td>\n",
              "      <td>7303</td>\n",
              "    </tr>\n",
              "    <tr>\n",
              "      <th>169</th>\n",
              "      <td>SANTA RITA</td>\n",
              "      <td>5876</td>\n",
              "    </tr>\n",
              "    <tr>\n",
              "      <th>188</th>\n",
              "      <td>SÃO BENTO</td>\n",
              "      <td>5255</td>\n",
              "    </tr>\n",
              "    <tr>\n",
              "      <th>44</th>\n",
              "      <td>CAJAZEIRAS</td>\n",
              "      <td>4644</td>\n",
              "    </tr>\n",
              "    <tr>\n",
              "      <th>86</th>\n",
              "      <td>ITABAIANA</td>\n",
              "      <td>4437</td>\n",
              "    </tr>\n",
              "    <tr>\n",
              "      <th>174</th>\n",
              "      <td>SAPÉ</td>\n",
              "      <td>4387</td>\n",
              "    </tr>\n",
              "    <tr>\n",
              "      <th>147</th>\n",
              "      <td>POMBAL</td>\n",
              "      <td>4033</td>\n",
              "    </tr>\n",
              "  </tbody>\n",
              "</table>\n",
              "</div>"
            ],
            "text/plain": [
              "    NOME DO MUNICIPIO  QUANTIDADE\n",
              "93        JOÃO PESSOA       36536\n",
              "48     CAMPINA GRANDE       20819\n",
              "22             BAYEUX        7545\n",
              "133             PATOS        7303\n",
              "169        SANTA RITA        5876\n",
              "188         SÃO BENTO        5255\n",
              "44         CAJAZEIRAS        4644\n",
              "86          ITABAIANA        4437\n",
              "174              SAPÉ        4387\n",
              "147            POMBAL        4033"
            ]
          },
          "metadata": {
            "tags": []
          },
          "execution_count": 128
        }
      ]
    },
    {
      "cell_type": "code",
      "metadata": {
        "id": "luDQFUGewcm2",
        "cellView": "form",
        "colab": {
          "base_uri": "https://localhost:8080/",
          "height": 534
        },
        "outputId": "d26cb501-642a-45d4-c21a-a3f224169e9d"
      },
      "source": [
        "#@title Gráfico de Dispersão  dos Cadastros Cancelados á Pedido do Eleitor \n",
        "\n",
        "\n",
        "cancelados = filiados_paraiba\\\n",
        "  [(filiados_paraiba['SITUACAO DO REGISTRO'] == \"CANCELADO\") &\\\n",
        "   (filiados_paraiba['MOTIVO DO CANCELAMENTO'] == \"A pedido do eleitor\")]\\\n",
        "  .groupby(by=[\"SIGLA DO PARTIDO\", \"DATA DO CANCELAMENTO\"])\\\n",
        "  .size()\\\n",
        "  .reset_index(name='QUANTIDADE')\\\n",
        "  .sort_values(by=\"QUANTIDADE\", ascending=False)\\\n",
        "\n",
        "cancelados['DATA DO CANCELAMENTO'] = pd.to_datetime(cancelados['DATA DO CANCELAMENTO'], errors='ignore');\n",
        "\n",
        "cancelados = cancelados\\\n",
        "  [(cancelados['DATA DO CANCELAMENTO'].dt.year < 2019) &\\\n",
        "   (cancelados['DATA DO CANCELAMENTO'].dt.year > 1970 )]\\\n",
        "  .groupby(by=[cancelados[\"DATA DO CANCELAMENTO\"].dt.year, \"SIGLA DO PARTIDO\"])\\\n",
        "  .size()\\\n",
        "  .reset_index(name=\"QUANTIDADE\");\n",
        "\n",
        "sns.set(rc={'figure.figsize':(11.7,8.27)})\n",
        "sns.scatterplot(data=cancelados, x=\"DATA DO CANCELAMENTO\", y=\"QUANTIDADE\",hue=\"SIGLA DO PARTIDO\")"
      ],
      "execution_count": null,
      "outputs": [
        {
          "output_type": "execute_result",
          "data": {
            "text/plain": [
              "<matplotlib.axes._subplots.AxesSubplot at 0x7fdc1296c978>"
            ]
          },
          "metadata": {
            "tags": []
          },
          "execution_count": 206
        },
        {
          "output_type": "display_data",
          "data": {
            "image/png": "[encoded data removed]",
            "text/plain": [
              "<Figure size 842.4x595.44 with 1 Axes>"
            ]
          },
          "metadata": {
            "tags": []
          }
        }
      ]
    },
    {
      "cell_type": "code",
      "metadata": {
        "id": "TIis65mOsGmj"
      },
      "source": [
        ""
      ],
      "execution_count": null,
      "outputs": []
    },
    {
      "cell_type": "markdown",
      "metadata": {
        "id": "H_6lgpvydYOL"
      },
      "source": [
        "# Parte 5 e 6: Limpeza, Agrupamento e transformação dos dados"
      ]
    },
    {
      "cell_type": "code",
      "metadata": {
        "colab": {
          "base_uri": "https://localhost:8080/"
        },
        "id": "PHQpHH7GfblC",
        "outputId": "acf4b5fe-82a5-4c88-bf7c-75b117180168"
      },
      "source": [
        "from sklearn.cluster import KMeans\n",
        "\n",
        "registro = pd.DataFrame()\n",
        "\n",
        "registro['REGULARES'] = df[df['SITUACAO DO REGISTRO'] == 'REGULAR']['SIGLA DO PARTIDO'].value_counts()\n",
        "registro['CANCELADOS'] = df[df['SITUACAO DO REGISTRO'] == 'CANCELADO']['SIGLA DO PARTIDO'].value_counts()\n",
        "registro['DESFILIADOS'] = df[df['SITUACAO DO REGISTRO'] == 'DESFILIADO']['SIGLA DO PARTIDO'].value_counts()\n",
        "registro['CANCELADOS/DESFILIADOS'] = df[df['SITUACAO DO REGISTRO'].isin(['CANCELADO', 'DESFILIADO'])]['SIGLA DO PARTIDO'].value_counts()\n",
        "\n",
        "df_group = registro[['REGULARES','CANCELADOS/DESFILIADOS']]\n",
        "kmeans = KMeans(n_clusters=2)\n",
        "kmeans.fit(df_group)\n"
      ],
      "execution_count": 99,
      "outputs": [
        {
          "output_type": "execute_result",
          "data": {
            "text/plain": [
              "KMeans(algorithm='auto', copy_x=True, init='k-means++', max_iter=300,\n",
              "       n_clusters=2, n_init=10, n_jobs=None, precompute_distances='auto',\n",
              "       random_state=None, tol=0.0001, verbose=0)"
            ]
          },
          "metadata": {
            "tags": []
          },
          "execution_count": 99
        }
      ]
    },
    {
      "cell_type": "code",
      "metadata": {
        "colab": {
          "base_uri": "https://localhost:8080/",
          "height": 502
        },
        "id": "990dWacQa_1m",
        "outputId": "d1dc6803-f751-4f7b-9371-73163706d177"
      },
      "source": [
        "import seaborn as sns\n",
        "sns.set(rc={'figure.figsize':(12,8)})\n",
        "\n",
        "p1 = sns.scatterplot(data=registro, x='REGULARES', y='CANCELADOS',  hue=kmeans.labels_)\n",
        "\n",
        "for line in range(0,registro.shape[0]):\n",
        "  p1.text(registro['REGULARES'][line]+10, \n",
        "          registro['CANCELADOS'][line], registro.index[line], horizontalalignment='right', \n",
        "  size='small', color='black', weight='regular')"
      ],
      "execution_count": 76,
      "outputs": [
        {
          "output_type": "display_data",
          "data": {
            "image/png": "[encoded data removed]",
            "text/plain": [
              "<Figure size 864x576 with 1 Axes>"
            ]
          },
          "metadata": {
            "tags": []
          }
        }
      ]
    },
    {
      "cell_type": "code",
      "metadata": {
        "colab": {
          "base_uri": "https://localhost:8080/"
        },
        "id": "FYpYmFp6tZ6m",
        "outputId": "a42e3629-897a-44ca-d88b-7eecbd9e3e16"
      },
      "source": [
        "cluster_map = pd.DataFrame()\n",
        "cluster_map['partido'] = registro.index.values\n",
        "cluster_map['cluster'] = kmeans.labels_\n",
        "print(cluster_map[cluster_map['cluster'] == 0]['partido'].values)\n",
        "print(cluster_map[cluster_map['cluster'] == 1]['partido'].values)\n",
        "print(cluster_map[cluster_map['cluster'] == 2]['partido'].values)\n",
        "# print(cluster_map[cluster_map['cluster'] == 3]['partido'].values)"
      ],
      "execution_count": 100,
      "outputs": [
        {
          "output_type": "stream",
          "text": [
            "['PR' 'PDT' 'PRB' 'PSD' 'PPS' 'PSL' 'PC DO B' 'PT DO B' 'PSC' 'PV' 'PSDC'\n",
            " 'PTN' 'PTC' 'PRTB' 'PHS' 'PMN' 'PSOL' 'PPL' 'PCO' 'PSTU' 'PCB']\n",
            "['PMDB' 'DEM' 'PSDB' 'PT' 'PP' 'PTB' 'PSB']\n",
            "[]\n"
          ],
          "name": "stdout"
        }
      ]
    },
    {
      "cell_type": "code",
      "metadata": {
        "id": "LwzTCMKvg_6V"
      },
      "source": [
        "reg_data = []\n",
        "\n",
        "for year in range(1900, 2020):\n",
        "  df[(df['DATA DA FILIACAO'].dt.year < i) & (df['DATA DA DESFILIACAO'] < i]\n",
        "registro['REGULARES'] = df[df['SITUACAO DO REGISTRO'] == 'REGULAR']['SIGLA DO PARTIDO'].value_counts()\n",
        "registro['CANCELADOS'] = df[df['SITUACAO DO REGISTRO'] == 'CANCELADO']['SIGLA DO PARTIDO'].value_counts()\n",
        "registro['DESFILIADOS'] = df[df['SITUACAO DO REGISTRO'] == 'DESFILIADO']['SIGLA DO PARTIDO'].value_counts()\n",
        "registro['CANCELADOS/DESFILIADOS'] = df[df['SITUACAO DO REGISTRO'].isin(['CANCELADO', 'DESFILIADO'])]['SIGLA DO PARTIDO'].value_counts()\n",
        "\n",
        "registro"
      ],
      "execution_count": null,
      "outputs": []
    },
    {
      "cell_type": "code",
      "metadata": {
        "colab": {
          "base_uri": "https://localhost:8080/",
          "height": 470
        },
        "id": "8vGCv5v5h1am",
        "outputId": "3b20edfd-0bbf-4eca-94e8-9cf4345b2c6f"
      },
      "source": [
        "DATA_INICIO = '2016-08-31'\n",
        "DATA_FIM = '2017-06-01'\n",
        "\n",
        "df[(df['DATA DA FILIACAO'] < DATA_INICIO) & \\\n",
        "   ( (df['DATA DO CANCELAMENTO'] < DATA_INICIO) | (df['SITUACAO DO REGISTRO'] == 'REGULAR') | (df['DATA DO CANCELAMENTO'] < DATA_INICIO) )]\\\n",
        "  #  .groupby(df['DATA DO CANCELAMENTO'].dt.year).count()\n",
        "\n",
        "# df[(df['DATA DA DESFILIACAO'] > '2016-08-31') & (df['DATA DA DESFILIACAO'] < '2017-06-01')].groupby(\"SIGLA DO PARTIDO\").count()\n"
      ],
      "execution_count": 29,
      "outputs": [
        {
          "output_type": "execute_result",
          "data": {
            "text/html": [
              "<div>\n",
              "<style scoped>\n",
              "    .dataframe tbody tr th:only-of-type {\n",
              "        vertical-align: middle;\n",
              "    }\n",
              "\n",
              "    .dataframe tbody tr th {\n",
              "        vertical-align: top;\n",
              "    }\n",
              "\n",
              "    .dataframe thead th {\n",
              "        text-align: right;\n",
              "    }\n",
              "</style>\n",
              "<table border=\"1\" class=\"dataframe\">\n",
              "  <thead>\n",
              "    <tr style=\"text-align: right;\">\n",
              "      <th></th>\n",
              "      <th>SIGLA DO PARTIDO</th>\n",
              "      <th>CODIGO DO MUNICIPIO</th>\n",
              "      <th>NOME DO MUNICIPIO</th>\n",
              "      <th>ZONA ELEITORAL</th>\n",
              "      <th>SECAO ELEITORAL</th>\n",
              "      <th>DATA DA FILIACAO</th>\n",
              "      <th>SITUACAO DO REGISTRO</th>\n",
              "      <th>DATA DO PROCESSAMENTO</th>\n",
              "      <th>DATA DA DESFILIACAO</th>\n",
              "      <th>DATA DO CANCELAMENTO</th>\n",
              "      <th>DATA DA REGULARIZACAO</th>\n",
              "      <th>MOTIVO DO CANCELAMENTO</th>\n",
              "    </tr>\n",
              "  </thead>\n",
              "  <tbody>\n",
              "    <tr>\n",
              "      <th>0</th>\n",
              "      <td>PMN</td>\n",
              "      <td>21172</td>\n",
              "      <td>PATOS</td>\n",
              "      <td>28</td>\n",
              "      <td>129</td>\n",
              "      <td>2007-03-10</td>\n",
              "      <td>REGULAR</td>\n",
              "      <td>2017-10-14</td>\n",
              "      <td>NaT</td>\n",
              "      <td>NaT</td>\n",
              "      <td>NaT</td>\n",
              "      <td>NaN</td>\n",
              "    </tr>\n",
              "    <tr>\n",
              "      <th>1</th>\n",
              "      <td>PMN</td>\n",
              "      <td>19399</td>\n",
              "      <td>BELÉM</td>\n",
              "      <td>54</td>\n",
              "      <td>17</td>\n",
              "      <td>2007-09-20</td>\n",
              "      <td>CANCELADO</td>\n",
              "      <td>2016-04-15</td>\n",
              "      <td>NaT</td>\n",
              "      <td>2011-12-15</td>\n",
              "      <td>NaT</td>\n",
              "      <td>Judicial</td>\n",
              "    </tr>\n",
              "    <tr>\n",
              "      <th>2</th>\n",
              "      <td>PMN</td>\n",
              "      <td>20516</td>\n",
              "      <td>JOÃO PESSOA</td>\n",
              "      <td>64</td>\n",
              "      <td>104</td>\n",
              "      <td>2003-09-30</td>\n",
              "      <td>REGULAR</td>\n",
              "      <td>2017-10-14</td>\n",
              "      <td>NaT</td>\n",
              "      <td>NaT</td>\n",
              "      <td>NaT</td>\n",
              "      <td>NaN</td>\n",
              "    </tr>\n",
              "    <tr>\n",
              "      <th>3</th>\n",
              "      <td>PMN</td>\n",
              "      <td>19933</td>\n",
              "      <td>CONDE</td>\n",
              "      <td>73</td>\n",
              "      <td>123</td>\n",
              "      <td>2003-03-10</td>\n",
              "      <td>CANCELADO</td>\n",
              "      <td>2016-04-15</td>\n",
              "      <td>2008-07-17</td>\n",
              "      <td>2008-07-17</td>\n",
              "      <td>NaT</td>\n",
              "      <td>Judicial</td>\n",
              "    </tr>\n",
              "    <tr>\n",
              "      <th>5</th>\n",
              "      <td>PMN</td>\n",
              "      <td>19992</td>\n",
              "      <td>CRUZ DO ESPÍRITO SANTO</td>\n",
              "      <td>3</td>\n",
              "      <td>15</td>\n",
              "      <td>2003-01-10</td>\n",
              "      <td>REGULAR</td>\n",
              "      <td>2016-04-15</td>\n",
              "      <td>NaT</td>\n",
              "      <td>NaT</td>\n",
              "      <td>NaT</td>\n",
              "      <td>NaN</td>\n",
              "    </tr>\n",
              "    <tr>\n",
              "      <th>...</th>\n",
              "      <td>...</td>\n",
              "      <td>...</td>\n",
              "      <td>...</td>\n",
              "      <td>...</td>\n",
              "      <td>...</td>\n",
              "      <td>...</td>\n",
              "      <td>...</td>\n",
              "      <td>...</td>\n",
              "      <td>...</td>\n",
              "      <td>...</td>\n",
              "      <td>...</td>\n",
              "      <td>...</td>\n",
              "    </tr>\n",
              "    <tr>\n",
              "      <th>476739</th>\n",
              "      <td>PPL</td>\n",
              "      <td>20397</td>\n",
              "      <td>ITABAIANA</td>\n",
              "      <td>6</td>\n",
              "      <td>81</td>\n",
              "      <td>2012-11-02</td>\n",
              "      <td>CANCELADO</td>\n",
              "      <td>2013-10-18</td>\n",
              "      <td>2012-05-24</td>\n",
              "      <td>2012-05-24</td>\n",
              "      <td>NaT</td>\n",
              "      <td>Judicial</td>\n",
              "    </tr>\n",
              "    <tr>\n",
              "      <th>476740</th>\n",
              "      <td>PPL</td>\n",
              "      <td>20397</td>\n",
              "      <td>ITABAIANA</td>\n",
              "      <td>6</td>\n",
              "      <td>29</td>\n",
              "      <td>2011-06-10</td>\n",
              "      <td>CANCELADO</td>\n",
              "      <td>2018-10-16</td>\n",
              "      <td>NaT</td>\n",
              "      <td>2015-03-08</td>\n",
              "      <td>NaT</td>\n",
              "      <td>A pedido do eleitor</td>\n",
              "    </tr>\n",
              "    <tr>\n",
              "      <th>476741</th>\n",
              "      <td>PPL</td>\n",
              "      <td>20397</td>\n",
              "      <td>ITABAIANA</td>\n",
              "      <td>6</td>\n",
              "      <td>80</td>\n",
              "      <td>2011-06-10</td>\n",
              "      <td>CANCELADO</td>\n",
              "      <td>2013-10-18</td>\n",
              "      <td>2013-10-10</td>\n",
              "      <td>2013-10-10</td>\n",
              "      <td>NaT</td>\n",
              "      <td>A pedido do eleitor</td>\n",
              "    </tr>\n",
              "    <tr>\n",
              "      <th>476742</th>\n",
              "      <td>PPL</td>\n",
              "      <td>20397</td>\n",
              "      <td>ITABAIANA</td>\n",
              "      <td>6</td>\n",
              "      <td>29</td>\n",
              "      <td>2011-06-10</td>\n",
              "      <td>REGULAR</td>\n",
              "      <td>2013-10-18</td>\n",
              "      <td>NaT</td>\n",
              "      <td>NaT</td>\n",
              "      <td>NaT</td>\n",
              "      <td>NaN</td>\n",
              "    </tr>\n",
              "    <tr>\n",
              "      <th>476743</th>\n",
              "      <td>PPL</td>\n",
              "      <td>21750</td>\n",
              "      <td>SANTA RITA</td>\n",
              "      <td>2</td>\n",
              "      <td>106</td>\n",
              "      <td>2011-07-10</td>\n",
              "      <td>CANCELADO</td>\n",
              "      <td>2016-04-15</td>\n",
              "      <td>2012-08-06</td>\n",
              "      <td>2012-08-06</td>\n",
              "      <td>NaT</td>\n",
              "      <td>Cancelamento automático</td>\n",
              "    </tr>\n",
              "  </tbody>\n",
              "</table>\n",
              "<p>443216 rows × 12 columns</p>\n",
              "</div>"
            ],
            "text/plain": [
              "       SIGLA DO PARTIDO  ...   MOTIVO DO CANCELAMENTO\n",
              "0                   PMN  ...                      NaN\n",
              "1                   PMN  ...                 Judicial\n",
              "2                   PMN  ...                      NaN\n",
              "3                   PMN  ...                 Judicial\n",
              "5                   PMN  ...                      NaN\n",
              "...                 ...  ...                      ...\n",
              "476739              PPL  ...                 Judicial\n",
              "476740              PPL  ...      A pedido do eleitor\n",
              "476741              PPL  ...      A pedido do eleitor\n",
              "476742              PPL  ...                      NaN\n",
              "476743              PPL  ...  Cancelamento automático\n",
              "\n",
              "[443216 rows x 12 columns]"
            ]
          },
          "metadata": {
            "tags": []
          },
          "execution_count": 29
        }
      ]
    },
    {
      "cell_type": "code",
      "metadata": {
        "id": "CYuK9tcvnw4b"
      },
      "source": [
        ""
      ],
      "execution_count": null,
      "outputs": []
    },
    {
      "cell_type": "code",
      "metadata": {
        "colab": {
          "base_uri": "https://localhost:8080/",
          "height": 979
        },
        "id": "SGoA-5lzl3hF",
        "outputId": "b10fef16-ef0c-405c-b907-093ba1be79e7"
      },
      "source": [
        "a = pd.DataFrame()\n",
        "d = df[df['MOTIVO DO CANCELAMENTO'] == 'A pedido do eleitor']\n",
        "# a['DATA FILIACAO'] = d.groupby(d['DATA DA FILIACAO'].dt.year).size()\n",
        "a['DATA CANCELAMENTO/DESFILIACAO'] = df.groupby(df['DATA DO CANCELAMENTO'].dt.year).size()\n",
        "a.loc[1980: 2020]"
      ],
      "execution_count": 85,
      "outputs": [
        {
          "output_type": "execute_result",
          "data": {
            "text/html": [
              "<div>\n",
              "<style scoped>\n",
              "    .dataframe tbody tr th:only-of-type {\n",
              "        vertical-align: middle;\n",
              "    }\n",
              "\n",
              "    .dataframe tbody tr th {\n",
              "        vertical-align: top;\n",
              "    }\n",
              "\n",
              "    .dataframe thead th {\n",
              "        text-align: right;\n",
              "    }\n",
              "</style>\n",
              "<table border=\"1\" class=\"dataframe\">\n",
              "  <thead>\n",
              "    <tr style=\"text-align: right;\">\n",
              "      <th></th>\n",
              "      <th>DATA CANCELAMENTO/DESFILIACAO</th>\n",
              "    </tr>\n",
              "    <tr>\n",
              "      <th>DATA DO CANCELAMENTO</th>\n",
              "      <th></th>\n",
              "    </tr>\n",
              "  </thead>\n",
              "  <tbody>\n",
              "    <tr>\n",
              "      <th>1985.0</th>\n",
              "      <td>2</td>\n",
              "    </tr>\n",
              "    <tr>\n",
              "      <th>1986.0</th>\n",
              "      <td>1</td>\n",
              "    </tr>\n",
              "    <tr>\n",
              "      <th>1988.0</th>\n",
              "      <td>18</td>\n",
              "    </tr>\n",
              "    <tr>\n",
              "      <th>1992.0</th>\n",
              "      <td>4</td>\n",
              "    </tr>\n",
              "    <tr>\n",
              "      <th>1995.0</th>\n",
              "      <td>23</td>\n",
              "    </tr>\n",
              "    <tr>\n",
              "      <th>1996.0</th>\n",
              "      <td>6</td>\n",
              "    </tr>\n",
              "    <tr>\n",
              "      <th>1997.0</th>\n",
              "      <td>4</td>\n",
              "    </tr>\n",
              "    <tr>\n",
              "      <th>1998.0</th>\n",
              "      <td>3</td>\n",
              "    </tr>\n",
              "    <tr>\n",
              "      <th>1999.0</th>\n",
              "      <td>24</td>\n",
              "    </tr>\n",
              "    <tr>\n",
              "      <th>2000.0</th>\n",
              "      <td>50</td>\n",
              "    </tr>\n",
              "    <tr>\n",
              "      <th>2001.0</th>\n",
              "      <td>39</td>\n",
              "    </tr>\n",
              "    <tr>\n",
              "      <th>2002.0</th>\n",
              "      <td>13</td>\n",
              "    </tr>\n",
              "    <tr>\n",
              "      <th>2003.0</th>\n",
              "      <td>907</td>\n",
              "    </tr>\n",
              "    <tr>\n",
              "      <th>2004.0</th>\n",
              "      <td>1623</td>\n",
              "    </tr>\n",
              "    <tr>\n",
              "      <th>2005.0</th>\n",
              "      <td>1742</td>\n",
              "    </tr>\n",
              "    <tr>\n",
              "      <th>2006.0</th>\n",
              "      <td>2277</td>\n",
              "    </tr>\n",
              "    <tr>\n",
              "      <th>2007.0</th>\n",
              "      <td>13582</td>\n",
              "    </tr>\n",
              "    <tr>\n",
              "      <th>2008.0</th>\n",
              "      <td>2123</td>\n",
              "    </tr>\n",
              "    <tr>\n",
              "      <th>2009.0</th>\n",
              "      <td>6594</td>\n",
              "    </tr>\n",
              "    <tr>\n",
              "      <th>2010.0</th>\n",
              "      <td>18193</td>\n",
              "    </tr>\n",
              "    <tr>\n",
              "      <th>2011.0</th>\n",
              "      <td>26812</td>\n",
              "    </tr>\n",
              "    <tr>\n",
              "      <th>2012.0</th>\n",
              "      <td>3926</td>\n",
              "    </tr>\n",
              "    <tr>\n",
              "      <th>2013.0</th>\n",
              "      <td>3676</td>\n",
              "    </tr>\n",
              "    <tr>\n",
              "      <th>2014.0</th>\n",
              "      <td>1757</td>\n",
              "    </tr>\n",
              "    <tr>\n",
              "      <th>2015.0</th>\n",
              "      <td>19046</td>\n",
              "    </tr>\n",
              "    <tr>\n",
              "      <th>2016.0</th>\n",
              "      <td>9772</td>\n",
              "    </tr>\n",
              "    <tr>\n",
              "      <th>2017.0</th>\n",
              "      <td>1620</td>\n",
              "    </tr>\n",
              "    <tr>\n",
              "      <th>2018.0</th>\n",
              "      <td>2014</td>\n",
              "    </tr>\n",
              "    <tr>\n",
              "      <th>2019.0</th>\n",
              "      <td>1</td>\n",
              "    </tr>\n",
              "  </tbody>\n",
              "</table>\n",
              "</div>"
            ],
            "text/plain": [
              "                      DATA CANCELAMENTO/DESFILIACAO\n",
              "DATA DO CANCELAMENTO                               \n",
              "1985.0                                            2\n",
              "1986.0                                            1\n",
              "1988.0                                           18\n",
              "1992.0                                            4\n",
              "1995.0                                           23\n",
              "1996.0                                            6\n",
              "1997.0                                            4\n",
              "1998.0                                            3\n",
              "1999.0                                           24\n",
              "2000.0                                           50\n",
              "2001.0                                           39\n",
              "2002.0                                           13\n",
              "2003.0                                          907\n",
              "2004.0                                         1623\n",
              "2005.0                                         1742\n",
              "2006.0                                         2277\n",
              "2007.0                                        13582\n",
              "2008.0                                         2123\n",
              "2009.0                                         6594\n",
              "2010.0                                        18193\n",
              "2011.0                                        26812\n",
              "2012.0                                         3926\n",
              "2013.0                                         3676\n",
              "2014.0                                         1757\n",
              "2015.0                                        19046\n",
              "2016.0                                         9772\n",
              "2017.0                                         1620\n",
              "2018.0                                         2014\n",
              "2019.0                                            1"
            ]
          },
          "metadata": {
            "tags": []
          },
          "execution_count": 85
        }
      ]
    },
    {
      "cell_type": "code",
      "metadata": {
        "colab": {
          "base_uri": "https://localhost:8080/"
        },
        "id": "JG2Re_7krZIH",
        "outputId": "429ba339-a27d-4b28-bf4f-ba40515a85d8"
      },
      "source": [
        "df['MOTIVO DO CANCELAMENTO'].value_counts()"
      ],
      "execution_count": 82,
      "outputs": [
        {
          "output_type": "execute_result",
          "data": {
            "text/plain": [
              "A pedido do eleitor        46080\n",
              "Cancelamento automático    35125\n",
              "Judicial                   28623\n",
              "A pedido do partido         1333\n",
              "Name: MOTIVO DO CANCELAMENTO, dtype: int64"
            ]
          },
          "metadata": {
            "tags": []
          },
          "execution_count": 82
        }
      ]
    }
  ]
}